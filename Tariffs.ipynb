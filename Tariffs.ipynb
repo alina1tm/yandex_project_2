{
 "cells": [
  {
   "cell_type": "markdown",
   "metadata": {},
   "source": [
    "# Определение перспективного тарифа для телеком-компании"
   ]
  },
  {
   "cell_type": "markdown",
   "metadata": {},
   "source": [
    "**Описание тарифов:**\n",
    "\n",
    "**Тариф «Смарт».**\n",
    "Ежемесячная плата: 550 рублей\n",
    "Включено 500 минут разговора, 50 сообщений и 15 Гб интернет-трафика\n",
    "Стоимость услуг сверх тарифного пакета: \n",
    "- минута разговора: 3 рубля («Мегалайн» всегда округляет вверх значения минут и мегабайтов. Если пользователь проговорил всего 1 секунду, в тарифе засчитывается целая минута); \n",
    "- сообщение: 3 рубля; \n",
    "- 1 Гб интернет-трафика: 200 рублей.\n",
    "\n",
    "**Тариф «Ультра».**\n",
    "Ежемесячная плата: 1950 рублей\n",
    "Включено 3000 минут разговора, 1000 сообщений и 30 Гб интернет-трафика\n",
    "Стоимость услуг сверх тарифного пакета: \n",
    "- минута разговора: 1 рубль; \n",
    "- сообщение: 1 рубль; \n",
    "- 1 Гб интернет-трафика: 150 рублей."
   ]
  },
  {
   "cell_type": "code",
   "execution_count": 1,
   "metadata": {},
   "outputs": [],
   "source": [
    "import pandas as pd\n",
    "import numpy as np\n",
    "import scipy.stats as st\n",
    "import matplotlib.pyplot as plt"
   ]
  },
  {
   "cell_type": "code",
   "execution_count": 2,
   "metadata": {},
   "outputs": [],
   "source": [
    "calls = pd.read_csv('calls.csv')\n",
    "internet = pd.read_csv('internet.csv')\n",
    "messages = pd.read_csv('messages.csv')\n",
    "tariffs = pd.read_csv('tariffs.csv')\n",
    "users = pd.read_csv('users.csv')"
   ]
  },
  {
   "cell_type": "markdown",
   "metadata": {},
   "source": [
    "#### Описание данных\n",
    "\n",
    "**Таблица users (информация о пользователях):**\n",
    "- user_id — уникальный идентификатор пользователя\n",
    "- first_name — имя пользователя\n",
    "- last_name — фамилия пользователя\n",
    "- age — возраст пользователя (годы)\n",
    "- reg_date — дата подключения тарифа (день, месяц, год)\n",
    "- churn_date — дата прекращения пользования тарифом (если значение пропущено, то тариф ещё действовал на момент выгрузки данных)\n",
    "- city — город проживания пользователя\n",
    "- tarif — название тарифного плана"
   ]
  },
  {
   "cell_type": "markdown",
   "metadata": {},
   "source": [
    "**Таблица calls (информация о звонках):**\n",
    "- id — уникальный номер звонка\n",
    "- call_date — дата звонка\n",
    "- duration — длительность звонка в минутах\n",
    "- user_id — идентификатор пользователя, сделавшего звонок"
   ]
  },
  {
   "cell_type": "markdown",
   "metadata": {},
   "source": [
    "**Таблица messages (информация о сообщениях):**\n",
    "- id — уникальный номер сообщения\n",
    "- message_date — дата сообщения\n",
    "- user_id — идентификатор пользователя, отправившего сообщение"
   ]
  },
  {
   "cell_type": "markdown",
   "metadata": {},
   "source": [
    "**Таблица internet (информация об интернет-сессиях):**\n",
    "- id — уникальный номер сессии\n",
    "- mb_used — объём потраченного за сессию интернет-трафика (в мегабайтах)\n",
    "- session_date — дата интернет-сессии\n",
    "- user_id — идентификатор пользователя"
   ]
  },
  {
   "cell_type": "markdown",
   "metadata": {},
   "source": [
    "**Таблица tariffs (информация о тарифах):**\n",
    "- tariff_name — название тарифа\n",
    "- rub_monthly_fee — ежемесячная абонентская плата в рублях\n",
    "- minutes_included — количество минут разговора в месяц, включённых в абонентскую плату\n",
    "- messages_included — количество сообщений в месяц, включённых в абонентскую плату\n",
    "- mb_per_month_included — объём интернет-трафика, включённого в абонентскую плату (в мегабайтах)\n",
    "- rub_per_minute — стоимость минуты разговора сверх тарифного пакета (например, если в тарифе 100 минут разговора в месяц, то со 101 минуты будет взиматься плата)\n",
    "- rub_per_message — стоимость отправки сообщения сверх тарифного пакета\n",
    "- rub_per_gb — стоимость дополнительного гигабайта интернет-трафика сверх тарифного пакета (1 гигабайт = 1024 мегабайта)"
   ]
  },
  {
   "cell_type": "markdown",
   "metadata": {},
   "source": [
    "### Подготовка данных"
   ]
  },
  {
   "cell_type": "markdown",
   "metadata": {},
   "source": [
    "#### Изменение типов данных"
   ]
  },
  {
   "cell_type": "code",
   "execution_count": 8,
   "metadata": {},
   "outputs": [],
   "source": [
    "users['reg_date'] = pd.to_datetime(users['reg_date'], format = '%Y-%m-%d')\n",
    "\n",
    "users['churn_date'] = pd.to_datetime(users['churn_date'], format = '%Y-%m-%d')\n",
    "\n",
    "calls['call_date'] = pd.to_datetime(calls['call_date'], format = '%Y-%m-%d')\n",
    "\n",
    "internet['session_date'] = pd.to_datetime(internet['session_date'], format = '%Y-%m-%d')\n",
    "\n",
    "messages['message_date'] = pd.to_datetime(messages['message_date'], format = '%Y-%m-%d')"
   ]
  },
  {
   "cell_type": "markdown",
   "metadata": {},
   "source": [
    "#### Исправление ошибочных данных"
   ]
  },
  {
   "cell_type": "markdown",
   "metadata": {},
   "source": [
    "Удаление столбца 'Unnamed: 0':"
   ]
  },
  {
   "cell_type": "code",
   "execution_count": 9,
   "metadata": {},
   "outputs": [],
   "source": [
    "internet = internet.drop('Unnamed: 0', 1)"
   ]
  },
  {
   "cell_type": "markdown",
   "metadata": {},
   "source": [
    "#### Расчет дополнительных данных"
   ]
  },
  {
   "cell_type": "markdown",
   "metadata": {},
   "source": [
    "Добавление столбцов с номером месяца:"
   ]
  },
  {
   "cell_type": "code",
   "execution_count": 10,
   "metadata": {},
   "outputs": [],
   "source": [
    "calls['month'] = pd.DatetimeIndex(calls['call_date']).month\n",
    "\n",
    "internet['month'] = pd.DatetimeIndex(internet['session_date']).month\n",
    "\n",
    "messages['month'] = pd.DatetimeIndex(messages['message_date']).month"
   ]
  },
  {
   "cell_type": "markdown",
   "metadata": {},
   "source": [
    "Округление минут:"
   ]
  },
  {
   "cell_type": "code",
   "execution_count": 11,
   "metadata": {},
   "outputs": [],
   "source": [
    "calls['duration'] = np.ceil(calls['duration'])"
   ]
  },
  {
   "cell_type": "markdown",
   "metadata": {},
   "source": [
    "Необходимо посчитать для каждого пользователя:\n",
    "- количество сделанных звонков и израсходованных минут разговора по месяцам;\n",
    "- количество отправленных сообщений по месяцам;\n",
    "- объем израсходованного интернет-трафика по месяцам."
   ]
  },
  {
   "cell_type": "code",
   "execution_count": 12,
   "metadata": {},
   "outputs": [],
   "source": [
    "calls_grouped = calls.pivot_table(index = ['user_id','month'], values = 'duration', aggfunc = ['count','sum'])\n",
    "calls_grouped.columns = ['calls_count','calls_duration']"
   ]
  },
  {
   "cell_type": "code",
   "execution_count": 13,
   "metadata": {},
   "outputs": [],
   "source": [
    "messages_grouped = messages.pivot_table(index = ['user_id','month'], values = 'id', aggfunc = 'count')\n",
    "messages_grouped.columns = ['message_count']"
   ]
  },
  {
   "cell_type": "code",
   "execution_count": 14,
   "metadata": {},
   "outputs": [],
   "source": [
    "internet_grouped = internet.pivot_table(index = ['user_id','month'], values = 'mb_used', aggfunc = 'sum')"
   ]
  },
  {
   "cell_type": "markdown",
   "metadata": {},
   "source": [
    "После суммирования использованного интернет-трафика по месяцам, необходимо выполнить округление:"
   ]
  },
  {
   "cell_type": "code",
   "execution_count": 15,
   "metadata": {},
   "outputs": [],
   "source": [
    "internet_grouped['gb_used'] = np.ceil(internet_grouped['mb_used']/1024)"
   ]
  },
  {
   "cell_type": "markdown",
   "metadata": {},
   "source": [
    "Объединение таблиц с услугами:"
   ]
  },
  {
   "cell_type": "code",
   "execution_count": 16,
   "metadata": {},
   "outputs": [
    {
     "data": {
      "text/html": [
       "<div>\n",
       "<style scoped>\n",
       "    .dataframe tbody tr th:only-of-type {\n",
       "        vertical-align: middle;\n",
       "    }\n",
       "\n",
       "    .dataframe tbody tr th {\n",
       "        vertical-align: top;\n",
       "    }\n",
       "\n",
       "    .dataframe thead th {\n",
       "        text-align: right;\n",
       "    }\n",
       "</style>\n",
       "<table border=\"1\" class=\"dataframe\">\n",
       "  <thead>\n",
       "    <tr style=\"text-align: right;\">\n",
       "      <th></th>\n",
       "      <th></th>\n",
       "      <th>calls_count</th>\n",
       "      <th>calls_duration</th>\n",
       "      <th>mb_used</th>\n",
       "      <th>gb_used</th>\n",
       "      <th>message_count</th>\n",
       "    </tr>\n",
       "    <tr>\n",
       "      <th>user_id</th>\n",
       "      <th>month</th>\n",
       "      <th></th>\n",
       "      <th></th>\n",
       "      <th></th>\n",
       "      <th></th>\n",
       "      <th></th>\n",
       "    </tr>\n",
       "  </thead>\n",
       "  <tbody>\n",
       "    <tr>\n",
       "      <td rowspan=\"5\" valign=\"top\">1000</td>\n",
       "      <td>5</td>\n",
       "      <td>22.0</td>\n",
       "      <td>159.0</td>\n",
       "      <td>2253.49</td>\n",
       "      <td>3.0</td>\n",
       "      <td>22.0</td>\n",
       "    </tr>\n",
       "    <tr>\n",
       "      <td>6</td>\n",
       "      <td>43.0</td>\n",
       "      <td>172.0</td>\n",
       "      <td>23233.77</td>\n",
       "      <td>23.0</td>\n",
       "      <td>60.0</td>\n",
       "    </tr>\n",
       "    <tr>\n",
       "      <td>7</td>\n",
       "      <td>47.0</td>\n",
       "      <td>340.0</td>\n",
       "      <td>14003.64</td>\n",
       "      <td>14.0</td>\n",
       "      <td>75.0</td>\n",
       "    </tr>\n",
       "    <tr>\n",
       "      <td>8</td>\n",
       "      <td>52.0</td>\n",
       "      <td>408.0</td>\n",
       "      <td>14055.93</td>\n",
       "      <td>14.0</td>\n",
       "      <td>81.0</td>\n",
       "    </tr>\n",
       "    <tr>\n",
       "      <td>9</td>\n",
       "      <td>58.0</td>\n",
       "      <td>466.0</td>\n",
       "      <td>14568.91</td>\n",
       "      <td>15.0</td>\n",
       "      <td>57.0</td>\n",
       "    </tr>\n",
       "    <tr>\n",
       "      <td>...</td>\n",
       "      <td>...</td>\n",
       "      <td>...</td>\n",
       "      <td>...</td>\n",
       "      <td>...</td>\n",
       "      <td>...</td>\n",
       "      <td>...</td>\n",
       "    </tr>\n",
       "    <tr>\n",
       "      <td rowspan=\"5\" valign=\"top\">1489</td>\n",
       "      <td>8</td>\n",
       "      <td>NaN</td>\n",
       "      <td>NaN</td>\n",
       "      <td>11050.56</td>\n",
       "      <td>11.0</td>\n",
       "      <td>17.0</td>\n",
       "    </tr>\n",
       "    <tr>\n",
       "      <td>9</td>\n",
       "      <td>NaN</td>\n",
       "      <td>NaN</td>\n",
       "      <td>17206.30</td>\n",
       "      <td>17.0</td>\n",
       "      <td>32.0</td>\n",
       "    </tr>\n",
       "    <tr>\n",
       "      <td>10</td>\n",
       "      <td>NaN</td>\n",
       "      <td>NaN</td>\n",
       "      <td>19559.44</td>\n",
       "      <td>20.0</td>\n",
       "      <td>21.0</td>\n",
       "    </tr>\n",
       "    <tr>\n",
       "      <td>11</td>\n",
       "      <td>NaN</td>\n",
       "      <td>NaN</td>\n",
       "      <td>17491.56</td>\n",
       "      <td>18.0</td>\n",
       "      <td>20.0</td>\n",
       "    </tr>\n",
       "    <tr>\n",
       "      <td>12</td>\n",
       "      <td>NaN</td>\n",
       "      <td>NaN</td>\n",
       "      <td>17322.51</td>\n",
       "      <td>17.0</td>\n",
       "      <td>35.0</td>\n",
       "    </tr>\n",
       "  </tbody>\n",
       "</table>\n",
       "<p>3214 rows × 5 columns</p>\n",
       "</div>"
      ],
      "text/plain": [
       "               calls_count  calls_duration   mb_used  gb_used  message_count\n",
       "user_id month                                                               \n",
       "1000    5             22.0           159.0   2253.49      3.0           22.0\n",
       "        6             43.0           172.0  23233.77     23.0           60.0\n",
       "        7             47.0           340.0  14003.64     14.0           75.0\n",
       "        8             52.0           408.0  14055.93     14.0           81.0\n",
       "        9             58.0           466.0  14568.91     15.0           57.0\n",
       "...                    ...             ...       ...      ...            ...\n",
       "1489    8              NaN             NaN  11050.56     11.0           17.0\n",
       "        9              NaN             NaN  17206.30     17.0           32.0\n",
       "        10             NaN             NaN  19559.44     20.0           21.0\n",
       "        11             NaN             NaN  17491.56     18.0           20.0\n",
       "        12             NaN             NaN  17322.51     17.0           35.0\n",
       "\n",
       "[3214 rows x 5 columns]"
      ]
     },
     "metadata": {},
     "output_type": "display_data"
    }
   ],
   "source": [
    "data = calls_grouped.merge(internet_grouped, on = ['user_id','month'], how = 'outer')\n",
    "data = data.merge(messages_grouped, on = ['user_id','month'], how = 'outer')\n",
    "display(data)"
   ]
  },
  {
   "cell_type": "markdown",
   "metadata": {},
   "source": [
    "При объединении таблиц внешним способом в общей таблице появляются пропущенные значения, то есть клиент не пользовался какой-либо услугой вообще. Пропуски в столбцах 'calls_count', 'calls_duration', 'mb_used' и 'message_count' заменяются на нули."
   ]
  },
  {
   "cell_type": "code",
   "execution_count": 17,
   "metadata": {},
   "outputs": [],
   "source": [
    "columns = ['calls_count', 'calls_duration', 'mb_used', 'message_count']\n",
    "\n",
    "for column in columns:\n",
    "    data[column] = data[column].fillna(0)"
   ]
  },
  {
   "cell_type": "markdown",
   "metadata": {},
   "source": [
    "#### Расчет выручки с каждого пользователя\n",
    "\n",
    "Для расчета выручки по месяцам для каждого клиента и для дальнейшего анализа необходимо добавить в таблицу столбцы с городом проживания клиента и с названием тарифа из таблицы 'users', а также все столбцы таблицы 'tariffs'."
   ]
  },
  {
   "cell_type": "code",
   "execution_count": 18,
   "metadata": {
    "scrolled": true
   },
   "outputs": [
    {
     "data": {
      "text/html": [
       "<div>\n",
       "<style scoped>\n",
       "    .dataframe tbody tr th:only-of-type {\n",
       "        vertical-align: middle;\n",
       "    }\n",
       "\n",
       "    .dataframe tbody tr th {\n",
       "        vertical-align: top;\n",
       "    }\n",
       "\n",
       "    .dataframe thead th {\n",
       "        text-align: right;\n",
       "    }\n",
       "</style>\n",
       "<table border=\"1\" class=\"dataframe\">\n",
       "  <thead>\n",
       "    <tr style=\"text-align: right;\">\n",
       "      <th></th>\n",
       "      <th>user_id</th>\n",
       "      <th>calls_count</th>\n",
       "      <th>calls_duration</th>\n",
       "      <th>mb_used</th>\n",
       "      <th>gb_used</th>\n",
       "      <th>message_count</th>\n",
       "      <th>city</th>\n",
       "      <th>tariff</th>\n",
       "      <th>messages_included</th>\n",
       "      <th>mb_per_month_included</th>\n",
       "      <th>minutes_included</th>\n",
       "      <th>rub_monthly_fee</th>\n",
       "      <th>rub_per_gb</th>\n",
       "      <th>rub_per_message</th>\n",
       "      <th>rub_per_minute</th>\n",
       "    </tr>\n",
       "  </thead>\n",
       "  <tbody>\n",
       "    <tr>\n",
       "      <td>0</td>\n",
       "      <td>1000</td>\n",
       "      <td>22.0</td>\n",
       "      <td>159.0</td>\n",
       "      <td>2253.49</td>\n",
       "      <td>3.0</td>\n",
       "      <td>22.0</td>\n",
       "      <td>Краснодар</td>\n",
       "      <td>ultra</td>\n",
       "      <td>1000</td>\n",
       "      <td>30720</td>\n",
       "      <td>3000</td>\n",
       "      <td>1950</td>\n",
       "      <td>150</td>\n",
       "      <td>1</td>\n",
       "      <td>1</td>\n",
       "    </tr>\n",
       "    <tr>\n",
       "      <td>1</td>\n",
       "      <td>1000</td>\n",
       "      <td>43.0</td>\n",
       "      <td>172.0</td>\n",
       "      <td>23233.77</td>\n",
       "      <td>23.0</td>\n",
       "      <td>60.0</td>\n",
       "      <td>Краснодар</td>\n",
       "      <td>ultra</td>\n",
       "      <td>1000</td>\n",
       "      <td>30720</td>\n",
       "      <td>3000</td>\n",
       "      <td>1950</td>\n",
       "      <td>150</td>\n",
       "      <td>1</td>\n",
       "      <td>1</td>\n",
       "    </tr>\n",
       "    <tr>\n",
       "      <td>2</td>\n",
       "      <td>1000</td>\n",
       "      <td>47.0</td>\n",
       "      <td>340.0</td>\n",
       "      <td>14003.64</td>\n",
       "      <td>14.0</td>\n",
       "      <td>75.0</td>\n",
       "      <td>Краснодар</td>\n",
       "      <td>ultra</td>\n",
       "      <td>1000</td>\n",
       "      <td>30720</td>\n",
       "      <td>3000</td>\n",
       "      <td>1950</td>\n",
       "      <td>150</td>\n",
       "      <td>1</td>\n",
       "      <td>1</td>\n",
       "    </tr>\n",
       "    <tr>\n",
       "      <td>3</td>\n",
       "      <td>1000</td>\n",
       "      <td>52.0</td>\n",
       "      <td>408.0</td>\n",
       "      <td>14055.93</td>\n",
       "      <td>14.0</td>\n",
       "      <td>81.0</td>\n",
       "      <td>Краснодар</td>\n",
       "      <td>ultra</td>\n",
       "      <td>1000</td>\n",
       "      <td>30720</td>\n",
       "      <td>3000</td>\n",
       "      <td>1950</td>\n",
       "      <td>150</td>\n",
       "      <td>1</td>\n",
       "      <td>1</td>\n",
       "    </tr>\n",
       "    <tr>\n",
       "      <td>4</td>\n",
       "      <td>1000</td>\n",
       "      <td>58.0</td>\n",
       "      <td>466.0</td>\n",
       "      <td>14568.91</td>\n",
       "      <td>15.0</td>\n",
       "      <td>57.0</td>\n",
       "      <td>Краснодар</td>\n",
       "      <td>ultra</td>\n",
       "      <td>1000</td>\n",
       "      <td>30720</td>\n",
       "      <td>3000</td>\n",
       "      <td>1950</td>\n",
       "      <td>150</td>\n",
       "      <td>1</td>\n",
       "      <td>1</td>\n",
       "    </tr>\n",
       "  </tbody>\n",
       "</table>\n",
       "</div>"
      ],
      "text/plain": [
       "   user_id  calls_count  calls_duration   mb_used  gb_used  message_count  \\\n",
       "0     1000         22.0           159.0   2253.49      3.0           22.0   \n",
       "1     1000         43.0           172.0  23233.77     23.0           60.0   \n",
       "2     1000         47.0           340.0  14003.64     14.0           75.0   \n",
       "3     1000         52.0           408.0  14055.93     14.0           81.0   \n",
       "4     1000         58.0           466.0  14568.91     15.0           57.0   \n",
       "\n",
       "        city tariff  messages_included  mb_per_month_included  \\\n",
       "0  Краснодар  ultra               1000                  30720   \n",
       "1  Краснодар  ultra               1000                  30720   \n",
       "2  Краснодар  ultra               1000                  30720   \n",
       "3  Краснодар  ultra               1000                  30720   \n",
       "4  Краснодар  ultra               1000                  30720   \n",
       "\n",
       "   minutes_included  rub_monthly_fee  rub_per_gb  rub_per_message  \\\n",
       "0              3000             1950         150                1   \n",
       "1              3000             1950         150                1   \n",
       "2              3000             1950         150                1   \n",
       "3              3000             1950         150                1   \n",
       "4              3000             1950         150                1   \n",
       "\n",
       "   rub_per_minute  \n",
       "0               1  \n",
       "1               1  \n",
       "2               1  \n",
       "3               1  \n",
       "4               1  "
      ]
     },
     "metadata": {},
     "output_type": "display_data"
    }
   ],
   "source": [
    "data = data.merge(users[['user_id','city','tariff']], on = 'user_id', how = 'left')\n",
    "\n",
    "tariffs = tariffs.rename(columns = {'tariff_name': \"tariff\"}) #Переименование столбца для объединения\n",
    "\n",
    "data = data.merge(tariffs, on = 'tariff', how = 'left')\n",
    "\n",
    "display(data.head(5))"
   ]
  },
  {
   "cell_type": "markdown",
   "metadata": {},
   "source": [
    "Для удобства расчета добавляются столбцы:\n",
    "- с лимитом интернета в Гб;\n",
    "- превышение минут сверх пакета для каждого клиента;\n",
    "- превышение смс;\n",
    "- превышение интернет-трафика."
   ]
  },
  {
   "cell_type": "code",
   "execution_count": 19,
   "metadata": {},
   "outputs": [],
   "source": [
    "data['gb_per_month_included'] = data['mb_per_month_included'] / 1024"
   ]
  },
  {
   "cell_type": "code",
   "execution_count": 20,
   "metadata": {},
   "outputs": [],
   "source": [
    "data['minutes_over'] = data['calls_duration'] - data['minutes_included']\n",
    "\n",
    "data['messages_over'] = data['message_count'] - data['messages_included']\n",
    "\n",
    "data['gb_over'] = data['gb_used'] - data['gb_per_month_included']"
   ]
  },
  {
   "cell_type": "markdown",
   "metadata": {},
   "source": [
    "Если какое-либо превышение меньше нуля, то есть клиент не вышел за рамки пакета - значение заменяется на ноль. "
   ]
  },
  {
   "cell_type": "code",
   "execution_count": 21,
   "metadata": {},
   "outputs": [],
   "source": [
    "columns = ['minutes_over', 'messages_over', 'gb_over']\n",
    "\n",
    "for column in columns:\n",
    "    data[column] = data[column].where(data[column] > 0, 0)"
   ]
  },
  {
   "cell_type": "markdown",
   "metadata": {},
   "source": [
    "Выручка с каждого клиента по месяцам рассчитывается по формуле: \n",
    " \n",
    "revenue = rub_monthly_fee + (minutes_over * rub_per_minute) + (messages_over * rub_per_message) + (gb_over * rub_per_gb)\n"
   ]
  },
  {
   "cell_type": "code",
   "execution_count": 22,
   "metadata": {},
   "outputs": [
    {
     "data": {
      "text/html": [
       "<div>\n",
       "<style scoped>\n",
       "    .dataframe tbody tr th:only-of-type {\n",
       "        vertical-align: middle;\n",
       "    }\n",
       "\n",
       "    .dataframe tbody tr th {\n",
       "        vertical-align: top;\n",
       "    }\n",
       "\n",
       "    .dataframe thead th {\n",
       "        text-align: right;\n",
       "    }\n",
       "</style>\n",
       "<table border=\"1\" class=\"dataframe\">\n",
       "  <thead>\n",
       "    <tr style=\"text-align: right;\">\n",
       "      <th></th>\n",
       "      <th>user_id</th>\n",
       "      <th>calls_count</th>\n",
       "      <th>calls_duration</th>\n",
       "      <th>mb_used</th>\n",
       "      <th>gb_used</th>\n",
       "      <th>message_count</th>\n",
       "      <th>city</th>\n",
       "      <th>tariff</th>\n",
       "      <th>messages_included</th>\n",
       "      <th>mb_per_month_included</th>\n",
       "      <th>minutes_included</th>\n",
       "      <th>rub_monthly_fee</th>\n",
       "      <th>rub_per_gb</th>\n",
       "      <th>rub_per_message</th>\n",
       "      <th>rub_per_minute</th>\n",
       "      <th>gb_per_month_included</th>\n",
       "      <th>minutes_over</th>\n",
       "      <th>messages_over</th>\n",
       "      <th>gb_over</th>\n",
       "      <th>revenue</th>\n",
       "    </tr>\n",
       "  </thead>\n",
       "  <tbody>\n",
       "    <tr>\n",
       "      <td>0</td>\n",
       "      <td>1000</td>\n",
       "      <td>22.0</td>\n",
       "      <td>159.0</td>\n",
       "      <td>2253.49</td>\n",
       "      <td>3.0</td>\n",
       "      <td>22.0</td>\n",
       "      <td>Краснодар</td>\n",
       "      <td>ultra</td>\n",
       "      <td>1000</td>\n",
       "      <td>30720</td>\n",
       "      <td>3000</td>\n",
       "      <td>1950</td>\n",
       "      <td>150</td>\n",
       "      <td>1</td>\n",
       "      <td>1</td>\n",
       "      <td>30.0</td>\n",
       "      <td>0.0</td>\n",
       "      <td>0.0</td>\n",
       "      <td>0.0</td>\n",
       "      <td>1950.0</td>\n",
       "    </tr>\n",
       "    <tr>\n",
       "      <td>1</td>\n",
       "      <td>1000</td>\n",
       "      <td>43.0</td>\n",
       "      <td>172.0</td>\n",
       "      <td>23233.77</td>\n",
       "      <td>23.0</td>\n",
       "      <td>60.0</td>\n",
       "      <td>Краснодар</td>\n",
       "      <td>ultra</td>\n",
       "      <td>1000</td>\n",
       "      <td>30720</td>\n",
       "      <td>3000</td>\n",
       "      <td>1950</td>\n",
       "      <td>150</td>\n",
       "      <td>1</td>\n",
       "      <td>1</td>\n",
       "      <td>30.0</td>\n",
       "      <td>0.0</td>\n",
       "      <td>0.0</td>\n",
       "      <td>0.0</td>\n",
       "      <td>1950.0</td>\n",
       "    </tr>\n",
       "    <tr>\n",
       "      <td>2</td>\n",
       "      <td>1000</td>\n",
       "      <td>47.0</td>\n",
       "      <td>340.0</td>\n",
       "      <td>14003.64</td>\n",
       "      <td>14.0</td>\n",
       "      <td>75.0</td>\n",
       "      <td>Краснодар</td>\n",
       "      <td>ultra</td>\n",
       "      <td>1000</td>\n",
       "      <td>30720</td>\n",
       "      <td>3000</td>\n",
       "      <td>1950</td>\n",
       "      <td>150</td>\n",
       "      <td>1</td>\n",
       "      <td>1</td>\n",
       "      <td>30.0</td>\n",
       "      <td>0.0</td>\n",
       "      <td>0.0</td>\n",
       "      <td>0.0</td>\n",
       "      <td>1950.0</td>\n",
       "    </tr>\n",
       "    <tr>\n",
       "      <td>3</td>\n",
       "      <td>1000</td>\n",
       "      <td>52.0</td>\n",
       "      <td>408.0</td>\n",
       "      <td>14055.93</td>\n",
       "      <td>14.0</td>\n",
       "      <td>81.0</td>\n",
       "      <td>Краснодар</td>\n",
       "      <td>ultra</td>\n",
       "      <td>1000</td>\n",
       "      <td>30720</td>\n",
       "      <td>3000</td>\n",
       "      <td>1950</td>\n",
       "      <td>150</td>\n",
       "      <td>1</td>\n",
       "      <td>1</td>\n",
       "      <td>30.0</td>\n",
       "      <td>0.0</td>\n",
       "      <td>0.0</td>\n",
       "      <td>0.0</td>\n",
       "      <td>1950.0</td>\n",
       "    </tr>\n",
       "    <tr>\n",
       "      <td>4</td>\n",
       "      <td>1000</td>\n",
       "      <td>58.0</td>\n",
       "      <td>466.0</td>\n",
       "      <td>14568.91</td>\n",
       "      <td>15.0</td>\n",
       "      <td>57.0</td>\n",
       "      <td>Краснодар</td>\n",
       "      <td>ultra</td>\n",
       "      <td>1000</td>\n",
       "      <td>30720</td>\n",
       "      <td>3000</td>\n",
       "      <td>1950</td>\n",
       "      <td>150</td>\n",
       "      <td>1</td>\n",
       "      <td>1</td>\n",
       "      <td>30.0</td>\n",
       "      <td>0.0</td>\n",
       "      <td>0.0</td>\n",
       "      <td>0.0</td>\n",
       "      <td>1950.0</td>\n",
       "    </tr>\n",
       "    <tr>\n",
       "      <td>...</td>\n",
       "      <td>...</td>\n",
       "      <td>...</td>\n",
       "      <td>...</td>\n",
       "      <td>...</td>\n",
       "      <td>...</td>\n",
       "      <td>...</td>\n",
       "      <td>...</td>\n",
       "      <td>...</td>\n",
       "      <td>...</td>\n",
       "      <td>...</td>\n",
       "      <td>...</td>\n",
       "      <td>...</td>\n",
       "      <td>...</td>\n",
       "      <td>...</td>\n",
       "      <td>...</td>\n",
       "      <td>...</td>\n",
       "      <td>...</td>\n",
       "      <td>...</td>\n",
       "      <td>...</td>\n",
       "      <td>...</td>\n",
       "    </tr>\n",
       "    <tr>\n",
       "      <td>3209</td>\n",
       "      <td>1489</td>\n",
       "      <td>0.0</td>\n",
       "      <td>0.0</td>\n",
       "      <td>11050.56</td>\n",
       "      <td>11.0</td>\n",
       "      <td>17.0</td>\n",
       "      <td>Санкт-Петербург</td>\n",
       "      <td>smart</td>\n",
       "      <td>50</td>\n",
       "      <td>15360</td>\n",
       "      <td>500</td>\n",
       "      <td>550</td>\n",
       "      <td>200</td>\n",
       "      <td>3</td>\n",
       "      <td>3</td>\n",
       "      <td>15.0</td>\n",
       "      <td>0.0</td>\n",
       "      <td>0.0</td>\n",
       "      <td>0.0</td>\n",
       "      <td>550.0</td>\n",
       "    </tr>\n",
       "    <tr>\n",
       "      <td>3210</td>\n",
       "      <td>1489</td>\n",
       "      <td>0.0</td>\n",
       "      <td>0.0</td>\n",
       "      <td>17206.30</td>\n",
       "      <td>17.0</td>\n",
       "      <td>32.0</td>\n",
       "      <td>Санкт-Петербург</td>\n",
       "      <td>smart</td>\n",
       "      <td>50</td>\n",
       "      <td>15360</td>\n",
       "      <td>500</td>\n",
       "      <td>550</td>\n",
       "      <td>200</td>\n",
       "      <td>3</td>\n",
       "      <td>3</td>\n",
       "      <td>15.0</td>\n",
       "      <td>0.0</td>\n",
       "      <td>0.0</td>\n",
       "      <td>2.0</td>\n",
       "      <td>950.0</td>\n",
       "    </tr>\n",
       "    <tr>\n",
       "      <td>3211</td>\n",
       "      <td>1489</td>\n",
       "      <td>0.0</td>\n",
       "      <td>0.0</td>\n",
       "      <td>19559.44</td>\n",
       "      <td>20.0</td>\n",
       "      <td>21.0</td>\n",
       "      <td>Санкт-Петербург</td>\n",
       "      <td>smart</td>\n",
       "      <td>50</td>\n",
       "      <td>15360</td>\n",
       "      <td>500</td>\n",
       "      <td>550</td>\n",
       "      <td>200</td>\n",
       "      <td>3</td>\n",
       "      <td>3</td>\n",
       "      <td>15.0</td>\n",
       "      <td>0.0</td>\n",
       "      <td>0.0</td>\n",
       "      <td>5.0</td>\n",
       "      <td>1550.0</td>\n",
       "    </tr>\n",
       "    <tr>\n",
       "      <td>3212</td>\n",
       "      <td>1489</td>\n",
       "      <td>0.0</td>\n",
       "      <td>0.0</td>\n",
       "      <td>17491.56</td>\n",
       "      <td>18.0</td>\n",
       "      <td>20.0</td>\n",
       "      <td>Санкт-Петербург</td>\n",
       "      <td>smart</td>\n",
       "      <td>50</td>\n",
       "      <td>15360</td>\n",
       "      <td>500</td>\n",
       "      <td>550</td>\n",
       "      <td>200</td>\n",
       "      <td>3</td>\n",
       "      <td>3</td>\n",
       "      <td>15.0</td>\n",
       "      <td>0.0</td>\n",
       "      <td>0.0</td>\n",
       "      <td>3.0</td>\n",
       "      <td>1150.0</td>\n",
       "    </tr>\n",
       "    <tr>\n",
       "      <td>3213</td>\n",
       "      <td>1489</td>\n",
       "      <td>0.0</td>\n",
       "      <td>0.0</td>\n",
       "      <td>17322.51</td>\n",
       "      <td>17.0</td>\n",
       "      <td>35.0</td>\n",
       "      <td>Санкт-Петербург</td>\n",
       "      <td>smart</td>\n",
       "      <td>50</td>\n",
       "      <td>15360</td>\n",
       "      <td>500</td>\n",
       "      <td>550</td>\n",
       "      <td>200</td>\n",
       "      <td>3</td>\n",
       "      <td>3</td>\n",
       "      <td>15.0</td>\n",
       "      <td>0.0</td>\n",
       "      <td>0.0</td>\n",
       "      <td>2.0</td>\n",
       "      <td>950.0</td>\n",
       "    </tr>\n",
       "  </tbody>\n",
       "</table>\n",
       "<p>3214 rows × 20 columns</p>\n",
       "</div>"
      ],
      "text/plain": [
       "      user_id  calls_count  calls_duration   mb_used  gb_used  message_count  \\\n",
       "0        1000         22.0           159.0   2253.49      3.0           22.0   \n",
       "1        1000         43.0           172.0  23233.77     23.0           60.0   \n",
       "2        1000         47.0           340.0  14003.64     14.0           75.0   \n",
       "3        1000         52.0           408.0  14055.93     14.0           81.0   \n",
       "4        1000         58.0           466.0  14568.91     15.0           57.0   \n",
       "...       ...          ...             ...       ...      ...            ...   \n",
       "3209     1489          0.0             0.0  11050.56     11.0           17.0   \n",
       "3210     1489          0.0             0.0  17206.30     17.0           32.0   \n",
       "3211     1489          0.0             0.0  19559.44     20.0           21.0   \n",
       "3212     1489          0.0             0.0  17491.56     18.0           20.0   \n",
       "3213     1489          0.0             0.0  17322.51     17.0           35.0   \n",
       "\n",
       "                 city tariff  messages_included  mb_per_month_included  \\\n",
       "0           Краснодар  ultra               1000                  30720   \n",
       "1           Краснодар  ultra               1000                  30720   \n",
       "2           Краснодар  ultra               1000                  30720   \n",
       "3           Краснодар  ultra               1000                  30720   \n",
       "4           Краснодар  ultra               1000                  30720   \n",
       "...               ...    ...                ...                    ...   \n",
       "3209  Санкт-Петербург  smart                 50                  15360   \n",
       "3210  Санкт-Петербург  smart                 50                  15360   \n",
       "3211  Санкт-Петербург  smart                 50                  15360   \n",
       "3212  Санкт-Петербург  smart                 50                  15360   \n",
       "3213  Санкт-Петербург  smart                 50                  15360   \n",
       "\n",
       "      minutes_included  rub_monthly_fee  rub_per_gb  rub_per_message  \\\n",
       "0                 3000             1950         150                1   \n",
       "1                 3000             1950         150                1   \n",
       "2                 3000             1950         150                1   \n",
       "3                 3000             1950         150                1   \n",
       "4                 3000             1950         150                1   \n",
       "...                ...              ...         ...              ...   \n",
       "3209               500              550         200                3   \n",
       "3210               500              550         200                3   \n",
       "3211               500              550         200                3   \n",
       "3212               500              550         200                3   \n",
       "3213               500              550         200                3   \n",
       "\n",
       "      rub_per_minute  gb_per_month_included  minutes_over  messages_over  \\\n",
       "0                  1                   30.0           0.0            0.0   \n",
       "1                  1                   30.0           0.0            0.0   \n",
       "2                  1                   30.0           0.0            0.0   \n",
       "3                  1                   30.0           0.0            0.0   \n",
       "4                  1                   30.0           0.0            0.0   \n",
       "...              ...                    ...           ...            ...   \n",
       "3209               3                   15.0           0.0            0.0   \n",
       "3210               3                   15.0           0.0            0.0   \n",
       "3211               3                   15.0           0.0            0.0   \n",
       "3212               3                   15.0           0.0            0.0   \n",
       "3213               3                   15.0           0.0            0.0   \n",
       "\n",
       "      gb_over  revenue  \n",
       "0         0.0   1950.0  \n",
       "1         0.0   1950.0  \n",
       "2         0.0   1950.0  \n",
       "3         0.0   1950.0  \n",
       "4         0.0   1950.0  \n",
       "...       ...      ...  \n",
       "3209      0.0    550.0  \n",
       "3210      2.0    950.0  \n",
       "3211      5.0   1550.0  \n",
       "3212      3.0   1150.0  \n",
       "3213      2.0    950.0  \n",
       "\n",
       "[3214 rows x 20 columns]"
      ]
     },
     "metadata": {},
     "output_type": "display_data"
    }
   ],
   "source": [
    "data['revenue'] = (data['rub_monthly_fee'] \n",
    "                   + (data['minutes_over'] * data['rub_per_minute']) \n",
    "                   + (data['messages_over'] * data['rub_per_message']) \n",
    "                   + (data['gb_over'] * data['rub_per_gb']))\n",
    "display(data)"
   ]
  },
  {
   "cell_type": "markdown",
   "metadata": {},
   "source": [
    "### Анализ данных"
   ]
  },
  {
   "cell_type": "markdown",
   "metadata": {},
   "source": [
    "Необходимо описать поведение клиентов оператора: сколько минут разговора требуется пользователям каждого тарифа в месяц, сколько сообщений и какой объём интернет-трафика. Для отображения частот таких непрерывных величин на графике используется плотностная гистограмма."
   ]
  },
  {
   "cell_type": "code",
   "execution_count": 23,
   "metadata": {},
   "outputs": [],
   "source": [
    "data_smart = data.query('tariff == \"smart\"')\n",
    "data_ultra = data.query('tariff == \"ultra\"')"
   ]
  },
  {
   "cell_type": "code",
   "execution_count": 24,
   "metadata": {
    "scrolled": true
   },
   "outputs": [
    {
     "data": {
      "image/png": "[encoded data removed]",
      "text/plain": [
       "<Figure size 432x288 with 1 Axes>"
      ]
     },
     "metadata": {
      "needs_background": "light"
     },
     "output_type": "display_data"
    }
   ],
   "source": [
    "distr_smart = data_smart.pivot_table(index = 'user_id', values = 'calls_duration', aggfunc = 'mean')\n",
    "distr_ultra = data_ultra.pivot_table(index = 'user_id', values = 'calls_duration', aggfunc = 'mean')\n",
    "\n",
    "ax = distr_smart.hist(density = True, \n",
    "                      grid = True,\n",
    "                      bins = 40,\n",
    "                      alpha = 0.6)\n",
    "\n",
    "distr_ultra.hist(density = True,\n",
    "                 grid = True,\n",
    "                 bins = 40,\n",
    "                 alpha = 0.6, \n",
    "                 ax = ax);\n",
    "\n",
    "plt.legend(['Смарт', 'Ультра']);"
   ]
  },
  {
   "cell_type": "markdown",
   "metadata": {},
   "source": [
    "Распределение минут для клиентов тарифа \"Смарт\" - симметричное и близко к нормальному. Распределение для тарифа \"Ультра\" скошено вправо (количество значений справа от максимума больше, чем слева), а также имеются редкие сильно выбивающиеся значения.\n",
    "\n",
    "В среднем пользователям тарифа \"Ультра\" требуется больше минут в месяц."
   ]
  },
  {
   "cell_type": "code",
   "execution_count": 25,
   "metadata": {},
   "outputs": [
    {
     "data": {
      "image/png": "[encoded data removed]",
      "text/plain": [
       "<Figure size 432x288 with 1 Axes>"
      ]
     },
     "metadata": {
      "needs_background": "light"
     },
     "output_type": "display_data"
    }
   ],
   "source": [
    "distr_smart = data_smart.pivot_table(index = 'user_id', values = 'message_count', aggfunc = 'mean')\n",
    "distr_ultra = data_ultra.pivot_table(index = 'user_id', values = 'message_count', aggfunc = 'mean')\n",
    "\n",
    "ax = distr_smart.hist(density = True, \n",
    "                      grid = True,\n",
    "                      bins = 40,\n",
    "                      alpha = 0.6)\n",
    "\n",
    "distr_ultra.hist(density = True,\n",
    "                 grid = True,\n",
    "                 bins = 40,\n",
    "                 alpha = 0.6, \n",
    "                 ax = ax);\n",
    "\n",
    "plt.legend(['Смарт', 'Ультра']);"
   ]
  },
  {
   "cell_type": "markdown",
   "metadata": {},
   "source": [
    "Большое количество пользователей обоих тарифов не пользуются услугой отправки смс. \n",
    "Плотностная гистограмма без учета нулевых значений:"
   ]
  },
  {
   "cell_type": "code",
   "execution_count": 26,
   "metadata": {},
   "outputs": [
    {
     "data": {
      "image/png": "[encoded data removed]",
      "text/plain": [
       "<Figure size 432x288 with 1 Axes>"
      ]
     },
     "metadata": {
      "needs_background": "light"
     },
     "output_type": "display_data"
    }
   ],
   "source": [
    "distr_smart = data_smart.pivot_table(index = 'user_id', values = 'message_count', aggfunc = 'mean')\n",
    "distr_ultra = data_ultra.pivot_table(index = 'user_id', values = 'message_count', aggfunc = 'mean')\n",
    "\n",
    "ax = distr_smart.query('message_count > 0').hist(density = True, \n",
    "                      grid = True,\n",
    "                      bins = 40,\n",
    "                      alpha = 0.6)\n",
    "\n",
    "distr_ultra.query('message_count > 0').hist(density = True,\n",
    "                 grid = True,\n",
    "                 bins = 40,\n",
    "                 alpha = 0.6, \n",
    "                 ax = ax);\n",
    "\n",
    "plt.legend(['Смарт', 'Ультра']);"
   ]
  },
  {
   "cell_type": "markdown",
   "metadata": {},
   "source": [
    "Оба распределения скошены вправо, но распределение для тарифа \"Ультра\" смещено вправа сильнее. Это означает, что те пользователи этого тарифа, которые вообще пользуются услугой смс, в среднем отправляют больше сообщений в месяц."
   ]
  },
  {
   "cell_type": "code",
   "execution_count": 27,
   "metadata": {},
   "outputs": [
    {
     "data": {
      "image/png": "[encoded data removed]",
      "text/plain": [
       "<Figure size 432x288 with 1 Axes>"
      ]
     },
     "metadata": {
      "needs_background": "light"
     },
     "output_type": "display_data"
    }
   ],
   "source": [
    "distr_smart = data_smart.pivot_table(index = 'user_id', values = 'gb_used', aggfunc = 'mean')\n",
    "distr_ultra = data_ultra.pivot_table(index = 'user_id', values = 'gb_used', aggfunc = 'mean')\n",
    "\n",
    "ax = distr_smart.hist(density = True, \n",
    "                      grid = True,\n",
    "                      bins = 40,\n",
    "                      alpha = 0.6)\n",
    "\n",
    "distr_ultra.hist(density = True,\n",
    "                 grid = True,\n",
    "                 bins = 40,\n",
    "                 alpha = 0.6, \n",
    "                 ax = ax);\n",
    "\n",
    "plt.legend(['Смарт', 'Ультра']);"
   ]
  },
  {
   "cell_type": "markdown",
   "metadata": {},
   "source": [
    "Оба распределения симметричны, но распределение для тарифа \"Ультра\" расположено правее, то есть в среднем пользователи этого тарифа тратят больше интернет-трафика в месяц."
   ]
  },
  {
   "cell_type": "markdown",
   "metadata": {},
   "source": [
    "Далее необходимо рассчитать характеристики полученных распределений распределений. "
   ]
  },
  {
   "cell_type": "code",
   "execution_count": 31,
   "metadata": {},
   "outputs": [
    {
     "data": {
      "text/html": [
       "<div>\n",
       "<style scoped>\n",
       "    .dataframe tbody tr th:only-of-type {\n",
       "        vertical-align: middle;\n",
       "    }\n",
       "\n",
       "    .dataframe tbody tr th {\n",
       "        vertical-align: top;\n",
       "    }\n",
       "\n",
       "    .dataframe thead tr th {\n",
       "        text-align: left;\n",
       "    }\n",
       "\n",
       "    .dataframe thead tr:last-of-type th {\n",
       "        text-align: right;\n",
       "    }\n",
       "</style>\n",
       "<table border=\"1\" class=\"dataframe\">\n",
       "  <thead>\n",
       "    <tr>\n",
       "      <th></th>\n",
       "      <th colspan=\"3\" halign=\"left\">mean</th>\n",
       "      <th colspan=\"3\" halign=\"left\">var</th>\n",
       "      <th colspan=\"3\" halign=\"left\">std</th>\n",
       "    </tr>\n",
       "    <tr>\n",
       "      <th></th>\n",
       "      <th>calls_duration</th>\n",
       "      <th>gb_used</th>\n",
       "      <th>message_count</th>\n",
       "      <th>calls_duration</th>\n",
       "      <th>gb_used</th>\n",
       "      <th>message_count</th>\n",
       "      <th>calls_duration</th>\n",
       "      <th>gb_used</th>\n",
       "      <th>message_count</th>\n",
       "    </tr>\n",
       "    <tr>\n",
       "      <th>tariff</th>\n",
       "      <th></th>\n",
       "      <th></th>\n",
       "      <th></th>\n",
       "      <th></th>\n",
       "      <th></th>\n",
       "      <th></th>\n",
       "      <th></th>\n",
       "      <th></th>\n",
       "      <th></th>\n",
       "    </tr>\n",
       "  </thead>\n",
       "  <tbody>\n",
       "    <tr>\n",
       "      <td>smart</td>\n",
       "      <td>417.934948</td>\n",
       "      <td>16.336176</td>\n",
       "      <td>33.384029</td>\n",
       "      <td>36219.315784</td>\n",
       "      <td>32.923756</td>\n",
       "      <td>796.812958</td>\n",
       "      <td>190.313730</td>\n",
       "      <td>5.737923</td>\n",
       "      <td>28.227876</td>\n",
       "    </tr>\n",
       "    <tr>\n",
       "      <td>ultra</td>\n",
       "      <td>526.623350</td>\n",
       "      <td>19.694359</td>\n",
       "      <td>49.363452</td>\n",
       "      <td>100873.633397</td>\n",
       "      <td>94.146734</td>\n",
       "      <td>2285.266143</td>\n",
       "      <td>317.606098</td>\n",
       "      <td>9.702924</td>\n",
       "      <td>47.804457</td>\n",
       "    </tr>\n",
       "  </tbody>\n",
       "</table>\n",
       "</div>"
      ],
      "text/plain": [
       "                 mean                                     var             \\\n",
       "       calls_duration    gb_used message_count calls_duration    gb_used   \n",
       "tariff                                                                     \n",
       "smart      417.934948  16.336176     33.384029   36219.315784  32.923756   \n",
       "ultra      526.623350  19.694359     49.363452  100873.633397  94.146734   \n",
       "\n",
       "                                std                          \n",
       "       message_count calls_duration   gb_used message_count  \n",
       "tariff                                                       \n",
       "smart     796.812958     190.313730  5.737923     28.227876  \n",
       "ultra    2285.266143     317.606098  9.702924     47.804457  "
      ]
     },
     "execution_count": 31,
     "metadata": {},
     "output_type": "execute_result"
    }
   ],
   "source": [
    "data.pivot_table(index = 'tariff', values = ['calls_duration','message_count','gb_used'], aggfunc = ['mean','var','std'])"
   ]
  },
  {
   "cell_type": "markdown",
   "metadata": {},
   "source": [
    "**Вывод**\n",
    "\n",
    "В среднем пользователи тарифа 'Ультра' тратят больше интернет-трафика и минут в месяц на звонки, а также отправляют больше смс. Стандартное отклонение и дисперсия для всех трех распределений также в разы больше для тарифа 'Ультра'."
   ]
  },
  {
   "cell_type": "markdown",
   "metadata": {},
   "source": [
    "### Проверка гипотез"
   ]
  },
  {
   "cell_type": "markdown",
   "metadata": {},
   "source": [
    "Необходимо проверить гипотезы:\n",
    "- средняя выручка пользователей тарифов «Ультра» и «Смарт» различаются;\n",
    "- средняя выручка пользователей из Москвы отличается от выручки пользователей из других регионов."
   ]
  },
  {
   "cell_type": "markdown",
   "metadata": {},
   "source": [
    "#### Гипотеза о различии средней выручки пользователей двух тарифов"
   ]
  },
  {
   "cell_type": "markdown",
   "metadata": {},
   "source": [
    "Нулевая гипотеза $ H_0 $: средняя выручка пользователей тарифов \"Ультра\" и \"Смарт\" равны.\n",
    "\n",
    "Альтернативная гипотеза $ H_1 $: средняя выручка пользователей \"Ультра\" и \"Смарт\" не равны."
   ]
  },
  {
   "cell_type": "markdown",
   "metadata": {},
   "source": [
    "Для проверки гипотезы о равенстве средних используется t-тест. Его можно применить, так как размер двух выборок достаточно большой (обеспечивается нормальное распределение выборочных средних) и две генеральные совокупности независимы друг от друга (пользователи разных тарифов). Нельзя сказать о равенстве дисперсий генеральных совокупностей, поэтому при расчете параметру 'equal_var' передается значение 'False'."
   ]
  },
  {
   "cell_type": "code",
   "execution_count": 33,
   "metadata": {},
   "outputs": [
    {
     "data": {
      "text/plain": [
       "4.2606313931076085e-250"
      ]
     },
     "execution_count": 33,
     "metadata": {},
     "output_type": "execute_result"
    }
   ],
   "source": [
    "st.ttest_ind(data_ultra['revenue'], data_smart['revenue'], equal_var = False).pvalue"
   ]
  },
  {
   "cell_type": "markdown",
   "metadata": {},
   "source": [
    "Значение p-уровня значимости меньше любого из возможных пороговых значений $ \\alpha $, значит есть основания отвергнуть нулевую гипотезу. Имеются значимые различия выручки тарифов \"Смарт\" и \"Ультра\"."
   ]
  },
  {
   "cell_type": "code",
   "execution_count": 34,
   "metadata": {},
   "outputs": [
    {
     "data": {
      "text/plain": [
       "2070.1522842639592"
      ]
     },
     "execution_count": 34,
     "metadata": {},
     "output_type": "execute_result"
    }
   ],
   "source": [
    "data_ultra['revenue'].mean()"
   ]
  },
  {
   "cell_type": "code",
   "execution_count": 35,
   "metadata": {
    "scrolled": true
   },
   "outputs": [
    {
     "data": {
      "text/plain": [
       "1289.9735307312696"
      ]
     },
     "execution_count": 35,
     "metadata": {},
     "output_type": "execute_result"
    }
   ],
   "source": [
    "data_smart['revenue'].mean()"
   ]
  },
  {
   "cell_type": "markdown",
   "metadata": {},
   "source": [
    "Среднее значение выручки на одного пользователя в месяц для тарифа \"Ультра\" больше, чем для тарифа \"Смарт\"."
   ]
  },
  {
   "cell_type": "markdown",
   "metadata": {},
   "source": [
    "#### Гипотеза о различии средней выручки пользователей из Москвы и из других регионов"
   ]
  },
  {
   "cell_type": "markdown",
   "metadata": {},
   "source": [
    "Нулевая гипотеза $ H_0 $: средняя выручка пользователей из Москвы и других регионов равны.\n",
    "\n",
    "Альтернативная гипотеза $ H_1 $: средняя выручка пользователей из Москвы и других регионов не равны."
   ]
  },
  {
   "cell_type": "markdown",
   "metadata": {},
   "source": [
    "Аналогично п.4.1 для проверки гипотезы о равенстве средних используется t-тест. "
   ]
  },
  {
   "cell_type": "code",
   "execution_count": 36,
   "metadata": {},
   "outputs": [],
   "source": [
    "data_moscow = data.query('city == \"Москва\"')\n",
    "data_region = data.query('city != \"Москва\"')"
   ]
  },
  {
   "cell_type": "code",
   "execution_count": 37,
   "metadata": {},
   "outputs": [
    {
     "data": {
      "text/plain": [
       "0.5257376663729298"
      ]
     },
     "execution_count": 37,
     "metadata": {},
     "output_type": "execute_result"
    }
   ],
   "source": [
    "st.ttest_ind(data_moscow['revenue'], data_region['revenue'], equal_var = False).pvalue"
   ]
  },
  {
   "cell_type": "markdown",
   "metadata": {},
   "source": [
    "Значение p-уровня значимости больше любого из возможных пороговых значений $ \\alpha $, значит оснований отвергнуть нулевую гипотезу нет. Значимой разницы в выручке от пользователей из Москвы и других регионов нет."
   ]
  }
 ],
 "metadata": {
  "ExecuteTimeLog": [
   {
    "duration": 584,
    "start_time": "2022-02-01T15:07:24.638Z"
   },
   {
    "duration": 950,
    "start_time": "2022-02-01T15:23:04.301Z"
   },
   {
    "duration": 2983,
    "start_time": "2022-02-01T15:24:15.510Z"
   },
   {
    "duration": 379,
    "start_time": "2022-02-01T15:24:43.418Z"
   },
   {
    "duration": 16,
    "start_time": "2022-02-01T15:25:27.425Z"
   },
   {
    "duration": 19,
    "start_time": "2022-02-01T15:30:41.426Z"
   },
   {
    "duration": 26,
    "start_time": "2022-02-01T15:30:59.745Z"
   },
   {
    "duration": 47,
    "start_time": "2022-02-01T15:33:49.283Z"
   },
   {
    "duration": 63,
    "start_time": "2022-02-01T15:36:16.085Z"
   },
   {
    "duration": 46,
    "start_time": "2022-02-01T15:36:21.852Z"
   },
   {
    "duration": 14,
    "start_time": "2022-02-01T15:37:15.029Z"
   },
   {
    "duration": 934,
    "start_time": "2022-02-01T18:08:38.719Z"
   },
   {
    "duration": 394,
    "start_time": "2022-02-01T18:08:43.228Z"
   },
   {
    "duration": 71,
    "start_time": "2022-02-01T18:08:46.785Z"
   },
   {
    "duration": 52,
    "start_time": "2022-02-01T18:09:00.892Z"
   },
   {
    "duration": 20,
    "start_time": "2022-02-01T18:09:54.725Z"
   },
   {
    "duration": 9,
    "start_time": "2022-02-01T18:10:29.192Z"
   },
   {
    "duration": 268,
    "start_time": "2022-02-01T18:10:34.280Z"
   },
   {
    "duration": 877,
    "start_time": "2022-02-01T18:11:01.373Z"
   },
   {
    "duration": 396,
    "start_time": "2022-02-01T18:11:04.145Z"
   },
   {
    "duration": 71,
    "start_time": "2022-02-01T18:11:06.014Z"
   },
   {
    "duration": 52,
    "start_time": "2022-02-01T18:11:08.073Z"
   },
   {
    "duration": 14,
    "start_time": "2022-02-01T18:11:10.177Z"
   },
   {
    "duration": 32,
    "start_time": "2022-02-01T18:11:30.378Z"
   },
   {
    "duration": 943,
    "start_time": "2022-02-01T18:13:41.308Z"
   },
   {
    "duration": 390,
    "start_time": "2022-02-01T18:13:43.605Z"
   },
   {
    "duration": 74,
    "start_time": "2022-02-01T18:13:47.618Z"
   },
   {
    "duration": 55,
    "start_time": "2022-02-01T18:13:50.012Z"
   },
   {
    "duration": 21,
    "start_time": "2022-02-01T18:13:53.584Z"
   },
   {
    "duration": 36,
    "start_time": "2022-02-01T18:15:17.464Z"
   },
   {
    "duration": 14,
    "start_time": "2022-02-01T18:16:50.608Z"
   },
   {
    "duration": 30,
    "start_time": "2022-02-01T18:20:44.503Z"
   },
   {
    "duration": 20,
    "start_time": "2022-02-01T18:21:05.799Z"
   },
   {
    "duration": 21,
    "start_time": "2022-02-01T18:23:08.206Z"
   },
   {
    "duration": 19,
    "start_time": "2022-02-01T18:23:17.429Z"
   },
   {
    "duration": 5092,
    "start_time": "2022-02-01T18:23:56.243Z"
   },
   {
    "duration": 943,
    "start_time": "2022-02-01T18:24:26.025Z"
   },
   {
    "duration": 413,
    "start_time": "2022-02-01T18:24:26.970Z"
   },
   {
    "duration": 73,
    "start_time": "2022-02-01T18:24:27.386Z"
   },
   {
    "duration": 59,
    "start_time": "2022-02-01T18:24:27.461Z"
   },
   {
    "duration": 43,
    "start_time": "2022-02-01T18:24:27.522Z"
   },
   {
    "duration": 297,
    "start_time": "2022-02-01T18:24:27.567Z"
   },
   {
    "duration": -855,
    "start_time": "2022-02-01T18:24:28.721Z"
   },
   {
    "duration": -860,
    "start_time": "2022-02-01T18:24:28.727Z"
   },
   {
    "duration": 38,
    "start_time": "2022-02-01T18:24:40.058Z"
   },
   {
    "duration": 16,
    "start_time": "2022-02-01T18:24:48.657Z"
   },
   {
    "duration": 223,
    "start_time": "2022-02-01T18:25:05.659Z"
   },
   {
    "duration": 20,
    "start_time": "2022-02-01T18:25:29.327Z"
   },
   {
    "duration": 935,
    "start_time": "2022-02-01T18:25:46.416Z"
   },
   {
    "duration": 418,
    "start_time": "2022-02-01T18:25:47.353Z"
   },
   {
    "duration": 73,
    "start_time": "2022-02-01T18:25:47.773Z"
   },
   {
    "duration": 52,
    "start_time": "2022-02-01T18:25:47.848Z"
   },
   {
    "duration": 50,
    "start_time": "2022-02-01T18:25:47.902Z"
   },
   {
    "duration": 61,
    "start_time": "2022-02-01T18:25:47.954Z"
   },
   {
    "duration": 24,
    "start_time": "2022-02-01T18:25:48.017Z"
   },
   {
    "duration": 8,
    "start_time": "2022-02-01T18:25:48.043Z"
   },
   {
    "duration": 8,
    "start_time": "2022-02-01T18:26:13.128Z"
   },
   {
    "duration": 27,
    "start_time": "2022-02-01T18:26:21.245Z"
   },
   {
    "duration": 389,
    "start_time": "2022-02-03T07:56:00.913Z"
   },
   {
    "duration": 909,
    "start_time": "2022-02-03T07:56:07.521Z"
   },
   {
    "duration": 429,
    "start_time": "2022-02-03T07:56:10.609Z"
   },
   {
    "duration": 70,
    "start_time": "2022-02-03T07:56:13.419Z"
   },
   {
    "duration": 49,
    "start_time": "2022-02-03T07:56:15.439Z"
   },
   {
    "duration": 50,
    "start_time": "2022-02-03T07:56:17.571Z"
   },
   {
    "duration": 37,
    "start_time": "2022-02-03T07:56:20.432Z"
   },
   {
    "duration": 24,
    "start_time": "2022-02-03T07:56:23.855Z"
   },
   {
    "duration": 355,
    "start_time": "2022-02-03T07:58:09.115Z"
   },
   {
    "duration": 23,
    "start_time": "2022-02-03T07:59:22.422Z"
   },
   {
    "duration": 23,
    "start_time": "2022-02-03T08:01:35.805Z"
   },
   {
    "duration": 14,
    "start_time": "2022-02-03T08:01:59.856Z"
   },
   {
    "duration": 11,
    "start_time": "2022-02-03T08:02:32.128Z"
   },
   {
    "duration": 14,
    "start_time": "2022-02-03T08:02:37.791Z"
   },
   {
    "duration": 7,
    "start_time": "2022-02-03T08:02:55.190Z"
   },
   {
    "duration": 17,
    "start_time": "2022-02-03T08:05:17.048Z"
   },
   {
    "duration": 13,
    "start_time": "2022-02-03T08:06:10.688Z"
   },
   {
    "duration": 16,
    "start_time": "2022-02-03T08:07:45.333Z"
   },
   {
    "duration": 13,
    "start_time": "2022-02-03T08:08:48.118Z"
   },
   {
    "duration": 7,
    "start_time": "2022-02-03T08:08:55.762Z"
   },
   {
    "duration": 30,
    "start_time": "2022-02-03T08:09:28.581Z"
   },
   {
    "duration": 8,
    "start_time": "2022-02-03T08:10:00.184Z"
   },
   {
    "duration": 14,
    "start_time": "2022-02-03T08:11:07.067Z"
   },
   {
    "duration": 15,
    "start_time": "2022-02-03T08:11:16.241Z"
   },
   {
    "duration": 9,
    "start_time": "2022-02-03T08:14:05.106Z"
   },
   {
    "duration": 4,
    "start_time": "2022-02-03T08:14:20.241Z"
   },
   {
    "duration": 9,
    "start_time": "2022-02-03T08:14:25.908Z"
   },
   {
    "duration": 12,
    "start_time": "2022-02-03T08:18:08.439Z"
   },
   {
    "duration": 7,
    "start_time": "2022-02-03T08:18:19.611Z"
   },
   {
    "duration": 8,
    "start_time": "2022-02-03T08:19:22.922Z"
   },
   {
    "duration": 338,
    "start_time": "2022-02-03T08:21:19.285Z"
   },
   {
    "duration": 6,
    "start_time": "2022-02-03T08:21:28.990Z"
   },
   {
    "duration": 6,
    "start_time": "2022-02-03T08:35:58.026Z"
   },
   {
    "duration": 6,
    "start_time": "2022-02-03T08:36:57.142Z"
   },
   {
    "duration": 56,
    "start_time": "2022-02-03T08:37:07.468Z"
   },
   {
    "duration": 15,
    "start_time": "2022-02-03T08:40:21.123Z"
   },
   {
    "duration": 48,
    "start_time": "2022-02-03T08:42:22.834Z"
   },
   {
    "duration": 13,
    "start_time": "2022-02-03T08:44:19.785Z"
   },
   {
    "duration": 12,
    "start_time": "2022-02-03T08:45:43.257Z"
   },
   {
    "duration": 4,
    "start_time": "2022-02-03T08:47:21.190Z"
   },
   {
    "duration": 8,
    "start_time": "2022-02-03T08:47:24.562Z"
   },
   {
    "duration": 4,
    "start_time": "2022-02-03T08:47:34.498Z"
   },
   {
    "duration": 11,
    "start_time": "2022-02-03T08:48:00.144Z"
   },
   {
    "duration": 25,
    "start_time": "2022-02-03T08:49:56.500Z"
   },
   {
    "duration": 25,
    "start_time": "2022-02-03T08:50:06.433Z"
   },
   {
    "duration": 12,
    "start_time": "2022-02-03T08:50:37.914Z"
   },
   {
    "duration": 1546,
    "start_time": "2022-02-03T08:51:44.985Z"
   },
   {
    "duration": 32,
    "start_time": "2022-02-03T08:51:59.863Z"
   },
   {
    "duration": 879,
    "start_time": "2022-02-03T10:16:00.673Z"
   },
   {
    "duration": 371,
    "start_time": "2022-02-03T10:16:02.594Z"
   },
   {
    "duration": 14,
    "start_time": "2022-02-03T10:16:05.248Z"
   },
   {
    "duration": 19,
    "start_time": "2022-02-03T10:16:08.589Z"
   },
   {
    "duration": 7,
    "start_time": "2022-02-03T10:16:12.029Z"
   },
   {
    "duration": 7,
    "start_time": "2022-02-03T10:16:14.361Z"
   },
   {
    "duration": 6,
    "start_time": "2022-02-03T10:16:16.799Z"
   },
   {
    "duration": 61,
    "start_time": "2022-02-03T10:16:26.178Z"
   },
   {
    "duration": 55,
    "start_time": "2022-02-03T10:16:29.151Z"
   },
   {
    "duration": 14,
    "start_time": "2022-02-03T10:16:31.387Z"
   },
   {
    "duration": 4,
    "start_time": "2022-02-03T10:16:35.679Z"
   },
   {
    "duration": 12,
    "start_time": "2022-02-03T10:16:44.998Z"
   },
   {
    "duration": 58,
    "start_time": "2022-02-03T10:17:21.432Z"
   },
   {
    "duration": 12,
    "start_time": "2022-02-03T10:17:54.008Z"
   },
   {
    "duration": 3,
    "start_time": "2022-02-03T10:18:42.719Z"
   },
   {
    "duration": 1296,
    "start_time": "2022-02-03T10:19:12.098Z"
   },
   {
    "duration": 960,
    "start_time": "2022-02-03T10:20:26.338Z"
   },
   {
    "duration": 370,
    "start_time": "2022-02-03T10:20:27.299Z"
   },
   {
    "duration": 13,
    "start_time": "2022-02-03T10:20:27.671Z"
   },
   {
    "duration": 20,
    "start_time": "2022-02-03T10:20:27.686Z"
   },
   {
    "duration": 6,
    "start_time": "2022-02-03T10:20:27.707Z"
   },
   {
    "duration": 7,
    "start_time": "2022-02-03T10:20:27.715Z"
   },
   {
    "duration": 5,
    "start_time": "2022-02-03T10:20:27.723Z"
   },
   {
    "duration": 62,
    "start_time": "2022-02-03T10:20:27.730Z"
   },
   {
    "duration": 57,
    "start_time": "2022-02-03T10:20:27.794Z"
   },
   {
    "duration": 14,
    "start_time": "2022-02-03T10:20:27.852Z"
   },
   {
    "duration": 4,
    "start_time": "2022-02-03T10:20:27.867Z"
   },
   {
    "duration": 70,
    "start_time": "2022-02-03T10:20:27.873Z"
   },
   {
    "duration": 3,
    "start_time": "2022-02-03T10:20:27.945Z"
   },
   {
    "duration": 11,
    "start_time": "2022-02-03T10:20:34.603Z"
   },
   {
    "duration": 10,
    "start_time": "2022-02-03T10:20:43.286Z"
   },
   {
    "duration": 11,
    "start_time": "2022-02-03T10:21:16.308Z"
   },
   {
    "duration": 11,
    "start_time": "2022-02-03T10:21:32.172Z"
   },
   {
    "duration": 390,
    "start_time": "2022-02-03T10:22:54.403Z"
   },
   {
    "duration": 14,
    "start_time": "2022-02-03T10:24:53.780Z"
   },
   {
    "duration": 13,
    "start_time": "2022-02-03T10:24:59.632Z"
   },
   {
    "duration": 11,
    "start_time": "2022-02-03T10:25:41.448Z"
   },
   {
    "duration": 1695,
    "start_time": "2022-02-03T10:26:18.767Z"
   },
   {
    "duration": 58,
    "start_time": "2022-02-03T10:26:35.721Z"
   },
   {
    "duration": 4,
    "start_time": "2022-02-03T10:26:40.006Z"
   },
   {
    "duration": 17,
    "start_time": "2022-02-03T10:26:42.547Z"
   },
   {
    "duration": 13,
    "start_time": "2022-02-03T10:26:48.119Z"
   },
   {
    "duration": 14,
    "start_time": "2022-02-03T10:27:06.436Z"
   },
   {
    "duration": 11,
    "start_time": "2022-02-03T10:27:25.378Z"
   },
   {
    "duration": 11,
    "start_time": "2022-02-03T10:27:38.800Z"
   },
   {
    "duration": 10,
    "start_time": "2022-02-03T10:27:49.992Z"
   },
   {
    "duration": 12,
    "start_time": "2022-02-03T10:28:30.958Z"
   },
   {
    "duration": 11,
    "start_time": "2022-02-03T10:28:39.032Z"
   },
   {
    "duration": 946,
    "start_time": "2022-02-03T11:15:48.609Z"
   },
   {
    "duration": 386,
    "start_time": "2022-02-03T11:15:50.625Z"
   },
   {
    "duration": 65,
    "start_time": "2022-02-03T11:16:00.168Z"
   },
   {
    "duration": 44,
    "start_time": "2022-02-03T11:16:09.755Z"
   },
   {
    "duration": 15,
    "start_time": "2022-02-03T11:16:25.706Z"
   },
   {
    "duration": 5,
    "start_time": "2022-02-03T11:16:43.906Z"
   },
   {
    "duration": 55,
    "start_time": "2022-02-03T11:17:14.657Z"
   },
   {
    "duration": 3,
    "start_time": "2022-02-03T11:17:18.172Z"
   },
   {
    "duration": 16,
    "start_time": "2022-02-03T11:17:26.805Z"
   },
   {
    "duration": 7,
    "start_time": "2022-02-03T11:17:59.364Z"
   },
   {
    "duration": 420,
    "start_time": "2022-02-03T11:18:33.880Z"
   },
   {
    "duration": 9,
    "start_time": "2022-02-03T11:18:42.011Z"
   },
   {
    "duration": 8,
    "start_time": "2022-02-03T11:18:49.455Z"
   },
   {
    "duration": 13,
    "start_time": "2022-02-03T11:19:08.444Z"
   },
   {
    "duration": 13,
    "start_time": "2022-02-03T11:19:11.797Z"
   },
   {
    "duration": 45,
    "start_time": "2022-02-03T11:24:11.361Z"
   },
   {
    "duration": 49,
    "start_time": "2022-02-03T11:24:58.561Z"
   },
   {
    "duration": 44,
    "start_time": "2022-02-03T11:25:04.271Z"
   },
   {
    "duration": 22,
    "start_time": "2022-02-03T11:25:38.882Z"
   },
   {
    "duration": 18,
    "start_time": "2022-02-03T11:26:02.017Z"
   },
   {
    "duration": 322,
    "start_time": "2022-02-03T11:29:04.931Z"
   },
   {
    "duration": 2,
    "start_time": "2022-02-03T11:29:17.376Z"
   },
   {
    "duration": 14,
    "start_time": "2022-02-03T11:32:34.737Z"
   },
   {
    "duration": 1058,
    "start_time": "2022-02-03T11:33:08.736Z"
   },
   {
    "duration": 412,
    "start_time": "2022-02-03T11:33:09.796Z"
   },
   {
    "duration": 14,
    "start_time": "2022-02-03T11:33:10.210Z"
   },
   {
    "duration": 20,
    "start_time": "2022-02-03T11:33:10.225Z"
   },
   {
    "duration": 6,
    "start_time": "2022-02-03T11:33:10.246Z"
   },
   {
    "duration": 11,
    "start_time": "2022-02-03T11:33:10.253Z"
   },
   {
    "duration": 7,
    "start_time": "2022-02-03T11:33:10.266Z"
   },
   {
    "duration": 89,
    "start_time": "2022-02-03T11:33:10.275Z"
   },
   {
    "duration": 8,
    "start_time": "2022-02-03T11:33:10.365Z"
   },
   {
    "duration": 61,
    "start_time": "2022-02-03T11:33:10.375Z"
   },
   {
    "duration": 5,
    "start_time": "2022-02-03T11:33:10.437Z"
   },
   {
    "duration": 46,
    "start_time": "2022-02-03T11:33:10.444Z"
   },
   {
    "duration": 39,
    "start_time": "2022-02-03T11:33:10.491Z"
   },
   {
    "duration": 18,
    "start_time": "2022-02-03T11:33:10.531Z"
   },
   {
    "duration": 2,
    "start_time": "2022-02-03T11:33:10.551Z"
   },
   {
    "duration": 25,
    "start_time": "2022-02-03T11:33:10.555Z"
   },
   {
    "duration": 15,
    "start_time": "2022-02-03T11:33:10.581Z"
   },
   {
    "duration": 7,
    "start_time": "2022-02-03T11:36:40.011Z"
   },
   {
    "duration": 15,
    "start_time": "2022-02-03T11:45:27.595Z"
   },
   {
    "duration": 23,
    "start_time": "2022-02-03T11:46:14.849Z"
   },
   {
    "duration": 906,
    "start_time": "2022-02-03T11:50:23.685Z"
   },
   {
    "duration": 369,
    "start_time": "2022-02-03T11:50:24.593Z"
   },
   {
    "duration": 14,
    "start_time": "2022-02-03T11:50:24.964Z"
   },
   {
    "duration": 20,
    "start_time": "2022-02-03T11:50:24.979Z"
   },
   {
    "duration": 6,
    "start_time": "2022-02-03T11:50:25.000Z"
   },
   {
    "duration": 10,
    "start_time": "2022-02-03T11:50:25.007Z"
   },
   {
    "duration": 7,
    "start_time": "2022-02-03T11:50:25.018Z"
   },
   {
    "duration": 61,
    "start_time": "2022-02-03T11:50:25.027Z"
   },
   {
    "duration": 8,
    "start_time": "2022-02-03T11:50:25.090Z"
   },
   {
    "duration": 54,
    "start_time": "2022-02-03T11:50:25.100Z"
   },
   {
    "duration": 5,
    "start_time": "2022-02-03T11:50:25.156Z"
   },
   {
    "duration": 43,
    "start_time": "2022-02-03T11:50:25.162Z"
   },
   {
    "duration": 38,
    "start_time": "2022-02-03T11:50:25.206Z"
   },
   {
    "duration": 17,
    "start_time": "2022-02-03T11:50:25.246Z"
   },
   {
    "duration": 3,
    "start_time": "2022-02-03T11:50:25.264Z"
   },
   {
    "duration": 26,
    "start_time": "2022-02-03T11:50:25.269Z"
   },
   {
    "duration": 398,
    "start_time": "2022-02-03T11:50:25.297Z"
   },
   {
    "duration": -362,
    "start_time": "2022-02-03T11:50:26.058Z"
   },
   {
    "duration": 318,
    "start_time": "2022-02-03T11:50:33.639Z"
   },
   {
    "duration": 17,
    "start_time": "2022-02-03T11:50:46.412Z"
   },
   {
    "duration": 7,
    "start_time": "2022-02-03T11:53:25.406Z"
   },
   {
    "duration": 13,
    "start_time": "2022-02-03T11:58:10.564Z"
   },
   {
    "duration": 17,
    "start_time": "2022-02-03T11:58:27.128Z"
   },
   {
    "duration": 334,
    "start_time": "2022-02-03T11:59:44.541Z"
   },
   {
    "duration": 385,
    "start_time": "2022-02-03T11:59:53.967Z"
   },
   {
    "duration": 24,
    "start_time": "2022-02-03T12:00:16.384Z"
   },
   {
    "duration": 876,
    "start_time": "2022-02-03T12:00:40.772Z"
   },
   {
    "duration": 379,
    "start_time": "2022-02-03T12:00:41.650Z"
   },
   {
    "duration": 14,
    "start_time": "2022-02-03T12:00:42.031Z"
   },
   {
    "duration": 20,
    "start_time": "2022-02-03T12:00:42.046Z"
   },
   {
    "duration": 6,
    "start_time": "2022-02-03T12:00:42.068Z"
   },
   {
    "duration": 8,
    "start_time": "2022-02-03T12:00:42.075Z"
   },
   {
    "duration": 6,
    "start_time": "2022-02-03T12:00:42.085Z"
   },
   {
    "duration": 79,
    "start_time": "2022-02-03T12:00:42.093Z"
   },
   {
    "duration": 9,
    "start_time": "2022-02-03T12:00:42.174Z"
   },
   {
    "duration": 51,
    "start_time": "2022-02-03T12:00:42.184Z"
   },
   {
    "duration": 4,
    "start_time": "2022-02-03T12:00:42.237Z"
   },
   {
    "duration": 46,
    "start_time": "2022-02-03T12:00:42.243Z"
   },
   {
    "duration": 40,
    "start_time": "2022-02-03T12:00:42.291Z"
   },
   {
    "duration": 19,
    "start_time": "2022-02-03T12:00:42.332Z"
   },
   {
    "duration": 3,
    "start_time": "2022-02-03T12:00:42.352Z"
   },
   {
    "duration": 28,
    "start_time": "2022-02-03T12:00:42.356Z"
   },
   {
    "duration": 43,
    "start_time": "2022-02-03T12:00:42.385Z"
   },
   {
    "duration": 452,
    "start_time": "2022-02-03T16:14:57.452Z"
   },
   {
    "duration": 1393,
    "start_time": "2022-02-03T16:15:16.446Z"
   },
   {
    "duration": 552,
    "start_time": "2022-02-03T16:15:17.842Z"
   },
   {
    "duration": 25,
    "start_time": "2022-02-03T16:15:18.397Z"
   },
   {
    "duration": 27,
    "start_time": "2022-02-03T16:15:18.425Z"
   },
   {
    "duration": 10,
    "start_time": "2022-02-03T16:15:18.454Z"
   },
   {
    "duration": 24,
    "start_time": "2022-02-03T16:15:18.466Z"
   },
   {
    "duration": 9,
    "start_time": "2022-02-03T16:15:18.524Z"
   },
   {
    "duration": 115,
    "start_time": "2022-02-03T16:15:18.537Z"
   },
   {
    "duration": 12,
    "start_time": "2022-02-03T16:15:18.654Z"
   },
   {
    "duration": 83,
    "start_time": "2022-02-03T16:15:18.669Z"
   },
   {
    "duration": 7,
    "start_time": "2022-02-03T16:15:18.754Z"
   },
   {
    "duration": 110,
    "start_time": "2022-02-03T16:15:18.763Z"
   },
   {
    "duration": 65,
    "start_time": "2022-02-03T16:15:18.876Z"
   },
   {
    "duration": 39,
    "start_time": "2022-02-03T16:15:18.945Z"
   },
   {
    "duration": 22,
    "start_time": "2022-02-03T16:15:18.987Z"
   },
   {
    "duration": 44,
    "start_time": "2022-02-03T16:15:19.012Z"
   },
   {
    "duration": 43,
    "start_time": "2022-02-03T16:15:19.059Z"
   },
   {
    "duration": 1222,
    "start_time": "2022-02-03T16:17:12.710Z"
   },
   {
    "duration": 530,
    "start_time": "2022-02-03T16:17:13.935Z"
   },
   {
    "duration": 24,
    "start_time": "2022-02-03T16:17:14.468Z"
   },
   {
    "duration": 27,
    "start_time": "2022-02-03T16:17:14.495Z"
   },
   {
    "duration": 10,
    "start_time": "2022-02-03T16:17:14.525Z"
   },
   {
    "duration": 13,
    "start_time": "2022-02-03T16:17:14.537Z"
   },
   {
    "duration": 10,
    "start_time": "2022-02-03T16:17:14.552Z"
   },
   {
    "duration": 141,
    "start_time": "2022-02-03T16:17:14.565Z"
   },
   {
    "duration": 19,
    "start_time": "2022-02-03T16:17:14.709Z"
   },
   {
    "duration": 67,
    "start_time": "2022-02-03T16:17:14.731Z"
   },
   {
    "duration": 23,
    "start_time": "2022-02-03T16:17:14.800Z"
   },
   {
    "duration": 68,
    "start_time": "2022-02-03T16:17:14.825Z"
   },
   {
    "duration": 56,
    "start_time": "2022-02-03T16:17:14.895Z"
   },
   {
    "duration": 26,
    "start_time": "2022-02-03T16:17:14.954Z"
   },
   {
    "duration": 11,
    "start_time": "2022-02-03T16:17:14.983Z"
   },
   {
    "duration": 71,
    "start_time": "2022-02-03T16:17:14.997Z"
   },
   {
    "duration": 67,
    "start_time": "2022-02-03T16:17:15.071Z"
   },
   {
    "duration": 5,
    "start_time": "2022-02-03T16:19:10.460Z"
   },
   {
    "duration": 5,
    "start_time": "2022-02-03T16:30:53.647Z"
   },
   {
    "duration": 9,
    "start_time": "2022-02-03T16:31:05.755Z"
   },
   {
    "duration": 7,
    "start_time": "2022-02-03T16:31:16.662Z"
   },
   {
    "duration": 13,
    "start_time": "2022-02-03T16:38:49.824Z"
   },
   {
    "duration": 15,
    "start_time": "2022-02-03T16:39:00.560Z"
   },
   {
    "duration": 15,
    "start_time": "2022-02-03T16:39:12.504Z"
   },
   {
    "duration": 18,
    "start_time": "2022-02-03T16:39:23.241Z"
   },
   {
    "duration": 105,
    "start_time": "2022-02-03T16:49:37.009Z"
   },
   {
    "duration": 107,
    "start_time": "2022-02-03T16:49:48.233Z"
   },
   {
    "duration": 7181,
    "start_time": "2022-02-03T16:50:34.875Z"
   },
   {
    "duration": 97,
    "start_time": "2022-02-03T16:50:58.997Z"
   },
   {
    "duration": 12,
    "start_time": "2022-02-03T16:51:11.615Z"
   },
   {
    "duration": 7,
    "start_time": "2022-02-03T16:51:45.804Z"
   },
   {
    "duration": 10,
    "start_time": "2022-02-03T16:51:56.515Z"
   },
   {
    "duration": 16,
    "start_time": "2022-02-03T16:53:03.949Z"
   },
   {
    "duration": 7,
    "start_time": "2022-02-03T16:53:14.005Z"
   },
   {
    "duration": 997,
    "start_time": "2022-02-04T12:37:27.176Z"
   },
   {
    "duration": 447,
    "start_time": "2022-02-04T12:37:36.539Z"
   },
   {
    "duration": 76,
    "start_time": "2022-02-04T12:37:45.486Z"
   },
   {
    "duration": 9,
    "start_time": "2022-02-04T12:37:49.512Z"
   },
   {
    "duration": 53,
    "start_time": "2022-02-04T12:37:53.180Z"
   },
   {
    "duration": 6,
    "start_time": "2022-02-04T12:37:59.374Z"
   },
   {
    "duration": 53,
    "start_time": "2022-02-04T12:38:27.935Z"
   },
   {
    "duration": 27,
    "start_time": "2022-02-04T12:38:35.152Z"
   },
   {
    "duration": 30,
    "start_time": "2022-02-04T12:38:37.703Z"
   },
   {
    "duration": 10,
    "start_time": "2022-02-04T12:38:44.714Z"
   },
   {
    "duration": 39,
    "start_time": "2022-02-04T12:38:50.744Z"
   },
   {
    "duration": 34,
    "start_time": "2022-02-04T12:39:19.804Z"
   },
   {
    "duration": 4,
    "start_time": "2022-02-04T12:39:45.393Z"
   },
   {
    "duration": 7,
    "start_time": "2022-02-04T12:39:56.975Z"
   },
   {
    "duration": 9,
    "start_time": "2022-02-04T12:40:14.043Z"
   },
   {
    "duration": 28,
    "start_time": "2022-02-04T12:40:33.667Z"
   },
   {
    "duration": 362,
    "start_time": "2022-02-04T12:42:34.788Z"
   },
   {
    "duration": 263,
    "start_time": "2022-02-04T12:44:08.900Z"
   },
   {
    "duration": 353,
    "start_time": "2022-02-04T12:54:56.237Z"
   },
   {
    "duration": 6,
    "start_time": "2022-02-04T12:55:29.727Z"
   },
   {
    "duration": 25,
    "start_time": "2022-02-04T12:55:40.351Z"
   },
   {
    "duration": 8,
    "start_time": "2022-02-04T12:56:23.344Z"
   },
   {
    "duration": 384,
    "start_time": "2022-02-04T12:58:47.895Z"
   },
   {
    "duration": 251,
    "start_time": "2022-02-04T12:58:51.159Z"
   },
   {
    "duration": 473,
    "start_time": "2022-02-04T12:59:29.282Z"
   },
   {
    "duration": 506,
    "start_time": "2022-02-04T12:59:37.308Z"
   },
   {
    "duration": 400,
    "start_time": "2022-02-04T12:59:47.137Z"
   },
   {
    "duration": 288,
    "start_time": "2022-02-04T12:59:52.775Z"
   },
   {
    "duration": 499,
    "start_time": "2022-02-04T12:59:59.856Z"
   },
   {
    "duration": 430,
    "start_time": "2022-02-04T13:01:17.641Z"
   },
   {
    "duration": 424,
    "start_time": "2022-02-04T13:01:34.740Z"
   },
   {
    "duration": 17,
    "start_time": "2022-02-04T13:01:50.729Z"
   },
   {
    "duration": 6922,
    "start_time": "2022-02-04T13:03:29.386Z"
   },
   {
    "duration": 280,
    "start_time": "2022-02-04T13:04:40.452Z"
   },
   {
    "duration": 1028,
    "start_time": "2022-02-04T13:05:08.783Z"
   },
   {
    "duration": 479,
    "start_time": "2022-02-04T13:05:09.814Z"
   },
   {
    "duration": 22,
    "start_time": "2022-02-04T13:05:10.295Z"
   },
   {
    "duration": 32,
    "start_time": "2022-02-04T13:05:10.321Z"
   },
   {
    "duration": 9,
    "start_time": "2022-02-04T13:05:10.355Z"
   },
   {
    "duration": 21,
    "start_time": "2022-02-04T13:05:10.366Z"
   },
   {
    "duration": 29,
    "start_time": "2022-02-04T13:05:10.389Z"
   },
   {
    "duration": 102,
    "start_time": "2022-02-04T13:05:10.422Z"
   },
   {
    "duration": 16,
    "start_time": "2022-02-04T13:05:10.528Z"
   },
   {
    "duration": 77,
    "start_time": "2022-02-04T13:05:10.546Z"
   },
   {
    "duration": 6,
    "start_time": "2022-02-04T13:05:10.625Z"
   },
   {
    "duration": 75,
    "start_time": "2022-02-04T13:05:10.633Z"
   },
   {
    "duration": 36,
    "start_time": "2022-02-04T13:05:10.711Z"
   },
   {
    "duration": 25,
    "start_time": "2022-02-04T13:05:10.749Z"
   },
   {
    "duration": 9,
    "start_time": "2022-02-04T13:05:10.776Z"
   },
   {
    "duration": 59,
    "start_time": "2022-02-04T13:05:10.787Z"
   },
   {
    "duration": 88,
    "start_time": "2022-02-04T13:05:10.863Z"
   },
   {
    "duration": 108,
    "start_time": "2022-02-04T13:05:10.953Z"
   },
   {
    "duration": 106,
    "start_time": "2022-02-04T13:05:11.068Z"
   },
   {
    "duration": 43,
    "start_time": "2022-02-04T13:05:11.179Z"
   },
   {
    "duration": 38,
    "start_time": "2022-02-04T13:05:11.226Z"
   },
   {
    "duration": 10,
    "start_time": "2022-02-04T13:05:11.265Z"
   },
   {
    "duration": 569,
    "start_time": "2022-02-04T13:05:11.278Z"
   },
   {
    "duration": 420,
    "start_time": "2022-02-04T13:06:46.142Z"
   },
   {
    "duration": 395,
    "start_time": "2022-02-04T13:06:55.480Z"
   },
   {
    "duration": 449,
    "start_time": "2022-02-04T13:07:02.058Z"
   },
   {
    "duration": 2731,
    "start_time": "2022-02-04T13:07:18.047Z"
   },
   {
    "duration": 1815,
    "start_time": "2022-02-04T13:07:23.850Z"
   },
   {
    "duration": 443,
    "start_time": "2022-02-04T13:07:33.349Z"
   },
   {
    "duration": 834,
    "start_time": "2022-02-04T13:07:37.805Z"
   },
   {
    "duration": 419,
    "start_time": "2022-02-04T13:07:43.697Z"
   },
   {
    "duration": 361,
    "start_time": "2022-02-04T13:08:25.346Z"
   },
   {
    "duration": 397,
    "start_time": "2022-02-04T13:08:51.212Z"
   },
   {
    "duration": 428,
    "start_time": "2022-02-04T13:10:50.550Z"
   },
   {
    "duration": 329,
    "start_time": "2022-02-04T16:39:45.027Z"
   },
   {
    "duration": 974,
    "start_time": "2022-02-04T16:40:24.847Z"
   },
   {
    "duration": 431,
    "start_time": "2022-02-04T16:40:25.823Z"
   },
   {
    "duration": 18,
    "start_time": "2022-02-04T16:40:26.257Z"
   },
   {
    "duration": 24,
    "start_time": "2022-02-04T16:40:26.277Z"
   },
   {
    "duration": 8,
    "start_time": "2022-02-04T16:40:26.303Z"
   },
   {
    "duration": 16,
    "start_time": "2022-02-04T16:40:26.313Z"
   },
   {
    "duration": 10,
    "start_time": "2022-02-04T16:40:26.331Z"
   },
   {
    "duration": 93,
    "start_time": "2022-02-04T16:40:26.345Z"
   },
   {
    "duration": 9,
    "start_time": "2022-02-04T16:40:26.441Z"
   },
   {
    "duration": 79,
    "start_time": "2022-02-04T16:40:26.452Z"
   },
   {
    "duration": 5,
    "start_time": "2022-02-04T16:40:26.533Z"
   },
   {
    "duration": 70,
    "start_time": "2022-02-04T16:40:26.540Z"
   },
   {
    "duration": 27,
    "start_time": "2022-02-04T16:40:26.612Z"
   },
   {
    "duration": 22,
    "start_time": "2022-02-04T16:40:26.641Z"
   },
   {
    "duration": 9,
    "start_time": "2022-02-04T16:40:26.665Z"
   },
   {
    "duration": 50,
    "start_time": "2022-02-04T16:40:26.675Z"
   },
   {
    "duration": 27,
    "start_time": "2022-02-04T16:40:26.727Z"
   },
   {
    "duration": 4,
    "start_time": "2022-02-04T16:40:26.757Z"
   },
   {
    "duration": 19,
    "start_time": "2022-02-04T16:40:26.764Z"
   },
   {
    "duration": 30,
    "start_time": "2022-02-04T16:40:26.785Z"
   },
   {
    "duration": 51,
    "start_time": "2022-02-04T16:40:26.817Z"
   },
   {
    "duration": 20,
    "start_time": "2022-02-04T16:40:26.870Z"
   },
   {
    "duration": 543,
    "start_time": "2022-02-04T16:40:26.893Z"
   },
   {
    "duration": 424,
    "start_time": "2022-02-04T16:40:27.438Z"
   },
   {
    "duration": 428,
    "start_time": "2022-02-04T16:40:27.864Z"
   },
   {
    "duration": 409,
    "start_time": "2022-02-04T16:40:28.293Z"
   },
   {
    "duration": 490,
    "start_time": "2022-02-04T16:42:20.368Z"
   },
   {
    "duration": 432,
    "start_time": "2022-02-04T16:43:15.104Z"
   },
   {
    "duration": 392,
    "start_time": "2022-02-04T16:43:37.523Z"
   },
   {
    "duration": 384,
    "start_time": "2022-02-04T16:43:42.773Z"
   },
   {
    "duration": 398,
    "start_time": "2022-02-04T16:43:46.551Z"
   },
   {
    "duration": 411,
    "start_time": "2022-02-04T16:45:00.674Z"
   },
   {
    "duration": 91,
    "start_time": "2022-02-04T16:47:43.219Z"
   },
   {
    "duration": 536,
    "start_time": "2022-02-04T16:48:31.005Z"
   },
   {
    "duration": 84,
    "start_time": "2022-02-04T16:48:58.538Z"
   },
   {
    "duration": 407,
    "start_time": "2022-02-04T16:49:28.335Z"
   },
   {
    "duration": 389,
    "start_time": "2022-02-04T16:50:54.810Z"
   },
   {
    "duration": 83,
    "start_time": "2022-02-04T16:51:10.537Z"
   },
   {
    "duration": 393,
    "start_time": "2022-02-04T16:51:17.358Z"
   },
   {
    "duration": 833,
    "start_time": "2022-02-04T16:51:44.688Z"
   },
   {
    "duration": 481,
    "start_time": "2022-02-04T16:51:48.873Z"
   },
   {
    "duration": 399,
    "start_time": "2022-02-04T16:52:19.720Z"
   },
   {
    "duration": 396,
    "start_time": "2022-02-04T16:52:34.314Z"
   },
   {
    "duration": 422,
    "start_time": "2022-02-04T16:53:26.008Z"
   },
   {
    "duration": 5,
    "start_time": "2022-02-04T16:53:43.478Z"
   },
   {
    "duration": 293,
    "start_time": "2022-02-04T16:53:48.707Z"
   },
   {
    "duration": 6,
    "start_time": "2022-02-04T16:54:02.143Z"
   },
   {
    "duration": 7,
    "start_time": "2022-02-04T16:54:10.806Z"
   },
   {
    "duration": 5,
    "start_time": "2022-02-04T16:54:24.293Z"
   },
   {
    "duration": 6,
    "start_time": "2022-02-04T16:56:59.021Z"
   },
   {
    "duration": 4,
    "start_time": "2022-02-04T16:57:29.862Z"
   },
   {
    "duration": 445,
    "start_time": "2022-02-04T16:57:46.940Z"
   },
   {
    "duration": 89,
    "start_time": "2022-02-04T16:58:36.552Z"
   },
   {
    "duration": 431,
    "start_time": "2022-02-04T16:58:44.928Z"
   },
   {
    "duration": 542,
    "start_time": "2022-02-04T16:59:45.602Z"
   },
   {
    "duration": 347,
    "start_time": "2022-02-05T07:47:51.157Z"
   },
   {
    "duration": 298,
    "start_time": "2022-02-05T07:47:55.939Z"
   },
   {
    "duration": 1397,
    "start_time": "2022-02-05T07:48:05.259Z"
   },
   {
    "duration": 620,
    "start_time": "2022-02-05T07:48:06.659Z"
   },
   {
    "duration": 25,
    "start_time": "2022-02-05T07:48:07.283Z"
   },
   {
    "duration": 36,
    "start_time": "2022-02-05T07:48:07.312Z"
   },
   {
    "duration": 12,
    "start_time": "2022-02-05T07:48:07.351Z"
   },
   {
    "duration": 24,
    "start_time": "2022-02-05T07:48:07.366Z"
   },
   {
    "duration": 13,
    "start_time": "2022-02-05T07:48:07.393Z"
   },
   {
    "duration": 137,
    "start_time": "2022-02-05T07:48:07.412Z"
   },
   {
    "duration": 13,
    "start_time": "2022-02-05T07:48:07.552Z"
   },
   {
    "duration": 83,
    "start_time": "2022-02-05T07:48:07.568Z"
   },
   {
    "duration": 8,
    "start_time": "2022-02-05T07:48:07.653Z"
   },
   {
    "duration": 96,
    "start_time": "2022-02-05T07:48:07.663Z"
   },
   {
    "duration": 45,
    "start_time": "2022-02-05T07:48:07.762Z"
   },
   {
    "duration": 55,
    "start_time": "2022-02-05T07:48:07.810Z"
   },
   {
    "duration": 8,
    "start_time": "2022-02-05T07:48:07.868Z"
   },
   {
    "duration": 45,
    "start_time": "2022-02-05T07:48:07.878Z"
   },
   {
    "duration": 58,
    "start_time": "2022-02-05T07:48:07.950Z"
   },
   {
    "duration": 6,
    "start_time": "2022-02-05T07:48:08.011Z"
   },
   {
    "duration": 34,
    "start_time": "2022-02-05T07:48:08.020Z"
   },
   {
    "duration": 17,
    "start_time": "2022-02-05T07:48:08.057Z"
   },
   {
    "duration": 79,
    "start_time": "2022-02-05T07:48:08.077Z"
   },
   {
    "duration": 16,
    "start_time": "2022-02-05T07:48:08.159Z"
   },
   {
    "duration": 1349,
    "start_time": "2022-02-05T07:48:08.181Z"
   },
   {
    "duration": 706,
    "start_time": "2022-02-05T07:48:09.534Z"
   },
   {
    "duration": 638,
    "start_time": "2022-02-05T07:48:10.243Z"
   },
   {
    "duration": 664,
    "start_time": "2022-02-05T07:48:10.884Z"
   },
   {
    "duration": 755,
    "start_time": "2022-02-05T07:48:11.551Z"
   },
   {
    "duration": 642,
    "start_time": "2022-02-05T07:48:12.310Z"
   },
   {
    "duration": 9,
    "start_time": "2022-02-05T07:48:12.956Z"
   },
   {
    "duration": 8,
    "start_time": "2022-02-05T07:49:00.590Z"
   },
   {
    "duration": 8,
    "start_time": "2022-02-05T07:49:29.510Z"
   },
   {
    "duration": 6,
    "start_time": "2022-02-05T07:49:56.669Z"
   },
   {
    "duration": 7,
    "start_time": "2022-02-05T07:50:09.626Z"
   },
   {
    "duration": 6,
    "start_time": "2022-02-05T07:51:20.691Z"
   },
   {
    "duration": 7,
    "start_time": "2022-02-05T07:51:23.001Z"
   },
   {
    "duration": 6,
    "start_time": "2022-02-05T07:51:37.882Z"
   },
   {
    "duration": 7,
    "start_time": "2022-02-05T07:51:53.116Z"
   },
   {
    "duration": 284,
    "start_time": "2022-02-05T12:16:05.197Z"
   },
   {
    "duration": 950,
    "start_time": "2022-02-05T12:16:18.708Z"
   },
   {
    "duration": 405,
    "start_time": "2022-02-05T12:16:19.660Z"
   },
   {
    "duration": 17,
    "start_time": "2022-02-05T12:16:20.067Z"
   },
   {
    "duration": 23,
    "start_time": "2022-02-05T12:16:20.086Z"
   },
   {
    "duration": 7,
    "start_time": "2022-02-05T12:16:20.111Z"
   },
   {
    "duration": 14,
    "start_time": "2022-02-05T12:16:20.119Z"
   },
   {
    "duration": 6,
    "start_time": "2022-02-05T12:16:20.135Z"
   },
   {
    "duration": 83,
    "start_time": "2022-02-05T12:16:20.144Z"
   },
   {
    "duration": 10,
    "start_time": "2022-02-05T12:16:20.229Z"
   },
   {
    "duration": 55,
    "start_time": "2022-02-05T12:16:20.241Z"
   },
   {
    "duration": 23,
    "start_time": "2022-02-05T12:16:20.297Z"
   },
   {
    "duration": 64,
    "start_time": "2022-02-05T12:16:20.322Z"
   },
   {
    "duration": 39,
    "start_time": "2022-02-05T12:16:20.388Z"
   },
   {
    "duration": 21,
    "start_time": "2022-02-05T12:16:20.428Z"
   },
   {
    "duration": 8,
    "start_time": "2022-02-05T12:16:20.451Z"
   },
   {
    "duration": 28,
    "start_time": "2022-02-05T12:16:20.461Z"
   },
   {
    "duration": 41,
    "start_time": "2022-02-05T12:16:20.491Z"
   },
   {
    "duration": 3,
    "start_time": "2022-02-05T12:16:20.534Z"
   },
   {
    "duration": 10,
    "start_time": "2022-02-05T12:16:20.539Z"
   },
   {
    "duration": 8,
    "start_time": "2022-02-05T12:16:20.551Z"
   },
   {
    "duration": 29,
    "start_time": "2022-02-05T12:16:20.561Z"
   },
   {
    "duration": 34,
    "start_time": "2022-02-05T12:16:20.591Z"
   },
   {
    "duration": 526,
    "start_time": "2022-02-05T12:16:20.629Z"
   },
   {
    "duration": 388,
    "start_time": "2022-02-05T12:16:21.158Z"
   },
   {
    "duration": 393,
    "start_time": "2022-02-05T12:16:21.548Z"
   },
   {
    "duration": 402,
    "start_time": "2022-02-05T12:16:21.943Z"
   },
   {
    "duration": 485,
    "start_time": "2022-02-05T12:16:22.347Z"
   },
   {
    "duration": 398,
    "start_time": "2022-02-05T12:16:22.834Z"
   },
   {
    "duration": 5,
    "start_time": "2022-02-05T12:16:23.234Z"
   },
   {
    "duration": 7,
    "start_time": "2022-02-05T12:16:23.241Z"
   },
   {
    "duration": 7,
    "start_time": "2022-02-05T12:16:23.249Z"
   },
   {
    "duration": 10,
    "start_time": "2022-02-05T12:16:23.258Z"
   },
   {
    "duration": 4,
    "start_time": "2022-02-05T12:16:48.779Z"
   },
   {
    "duration": 5,
    "start_time": "2022-02-05T12:17:00.470Z"
   },
   {
    "duration": 5,
    "start_time": "2022-02-05T12:17:42.235Z"
   },
   {
    "duration": 376,
    "start_time": "2022-02-05T12:18:42.209Z"
   },
   {
    "duration": 265,
    "start_time": "2022-02-05T12:18:50.128Z"
   },
   {
    "duration": 5,
    "start_time": "2022-02-05T12:19:21.964Z"
   },
   {
    "duration": 1154,
    "start_time": "2022-02-05T15:13:06.279Z"
   },
   {
    "duration": 512,
    "start_time": "2022-02-05T15:13:08.378Z"
   },
   {
    "duration": 22,
    "start_time": "2022-02-05T15:13:10.708Z"
   },
   {
    "duration": 5,
    "start_time": "2022-02-05T15:13:40.752Z"
   },
   {
    "duration": 25,
    "start_time": "2022-02-05T15:14:40.949Z"
   },
   {
    "duration": 38,
    "start_time": "2022-02-05T15:15:14.018Z"
   },
   {
    "duration": 18,
    "start_time": "2022-02-05T15:15:24.617Z"
   },
   {
    "duration": 19,
    "start_time": "2022-02-05T15:15:41.846Z"
   },
   {
    "duration": 10,
    "start_time": "2022-02-05T15:16:10.780Z"
   },
   {
    "duration": 39,
    "start_time": "2022-02-05T15:16:23.365Z"
   },
   {
    "duration": 23,
    "start_time": "2022-02-05T15:16:54.930Z"
   },
   {
    "duration": 13,
    "start_time": "2022-02-05T15:17:05.480Z"
   },
   {
    "duration": 91,
    "start_time": "2022-02-05T15:18:40.982Z"
   },
   {
    "duration": 11,
    "start_time": "2022-02-05T15:18:45.824Z"
   },
   {
    "duration": 66,
    "start_time": "2022-02-05T15:18:50.262Z"
   },
   {
    "duration": 7,
    "start_time": "2022-02-05T15:18:52.181Z"
   },
   {
    "duration": 65,
    "start_time": "2022-02-05T15:19:05.476Z"
   },
   {
    "duration": 32,
    "start_time": "2022-02-05T15:19:31.796Z"
   },
   {
    "duration": 28,
    "start_time": "2022-02-05T15:19:36.276Z"
   },
   {
    "duration": 12,
    "start_time": "2022-02-05T15:19:40.822Z"
   },
   {
    "duration": 48,
    "start_time": "2022-02-05T15:19:47.781Z"
   },
   {
    "duration": 8,
    "start_time": "2022-02-05T15:20:12.150Z"
   },
   {
    "duration": 38,
    "start_time": "2022-02-05T15:21:43.958Z"
   },
   {
    "duration": 6,
    "start_time": "2022-02-05T15:22:09.660Z"
   },
   {
    "duration": 9,
    "start_time": "2022-02-05T15:22:21.903Z"
   },
   {
    "duration": 42,
    "start_time": "2022-02-05T15:33:22.361Z"
   },
   {
    "duration": 13,
    "start_time": "2022-02-05T15:33:56.949Z"
   },
   {
    "duration": 40,
    "start_time": "2022-02-05T15:33:59.413Z"
   },
   {
    "duration": 10,
    "start_time": "2022-02-05T15:39:01.976Z"
   },
   {
    "duration": 608,
    "start_time": "2022-02-05T15:39:13.403Z"
   },
   {
    "duration": 10,
    "start_time": "2022-02-05T15:39:50.593Z"
   },
   {
    "duration": 1164,
    "start_time": "2022-02-05T15:39:56.098Z"
   },
   {
    "duration": 541,
    "start_time": "2022-02-05T15:39:57.264Z"
   },
   {
    "duration": 9,
    "start_time": "2022-02-05T15:39:57.808Z"
   },
   {
    "duration": 50,
    "start_time": "2022-02-05T15:39:57.820Z"
   },
   {
    "duration": 17,
    "start_time": "2022-02-05T15:39:57.872Z"
   },
   {
    "duration": 28,
    "start_time": "2022-02-05T15:39:57.891Z"
   },
   {
    "duration": 29,
    "start_time": "2022-02-05T15:39:57.921Z"
   },
   {
    "duration": 106,
    "start_time": "2022-02-05T15:39:57.952Z"
   },
   {
    "duration": 12,
    "start_time": "2022-02-05T15:39:58.062Z"
   },
   {
    "duration": 85,
    "start_time": "2022-02-05T15:39:58.077Z"
   },
   {
    "duration": 6,
    "start_time": "2022-02-05T15:39:58.165Z"
   },
   {
    "duration": 81,
    "start_time": "2022-02-05T15:39:58.173Z"
   },
   {
    "duration": 31,
    "start_time": "2022-02-05T15:39:58.257Z"
   },
   {
    "duration": 26,
    "start_time": "2022-02-05T15:39:58.290Z"
   },
   {
    "duration": 30,
    "start_time": "2022-02-05T15:39:58.318Z"
   },
   {
    "duration": 44,
    "start_time": "2022-02-05T15:39:58.351Z"
   },
   {
    "duration": 85,
    "start_time": "2022-02-05T15:39:58.397Z"
   },
   {
    "duration": 34,
    "start_time": "2022-02-05T15:39:58.485Z"
   },
   {
    "duration": 5,
    "start_time": "2022-02-05T15:39:58.521Z"
   },
   {
    "duration": 26,
    "start_time": "2022-02-05T15:39:58.528Z"
   },
   {
    "duration": 12,
    "start_time": "2022-02-05T15:39:58.556Z"
   },
   {
    "duration": 39,
    "start_time": "2022-02-05T15:39:58.570Z"
   },
   {
    "duration": 44,
    "start_time": "2022-02-05T15:39:58.612Z"
   },
   {
    "duration": 718,
    "start_time": "2022-02-05T15:39:58.658Z"
   },
   {
    "duration": 625,
    "start_time": "2022-02-05T15:39:59.378Z"
   },
   {
    "duration": 670,
    "start_time": "2022-02-05T15:40:00.006Z"
   },
   {
    "duration": 700,
    "start_time": "2022-02-05T15:40:00.680Z"
   },
   {
    "duration": 727,
    "start_time": "2022-02-05T15:40:01.383Z"
   },
   {
    "duration": 768,
    "start_time": "2022-02-05T15:40:02.113Z"
   },
   {
    "duration": 9,
    "start_time": "2022-02-05T15:40:02.884Z"
   },
   {
    "duration": 17,
    "start_time": "2022-02-05T15:40:02.895Z"
   },
   {
    "duration": 34,
    "start_time": "2022-02-05T15:40:02.915Z"
   },
   {
    "duration": 13,
    "start_time": "2022-02-05T15:40:02.952Z"
   },
   {
    "duration": 23,
    "start_time": "2022-02-05T15:40:02.967Z"
   },
   {
    "duration": 12,
    "start_time": "2022-02-05T15:40:02.993Z"
   },
   {
    "duration": 9,
    "start_time": "2022-02-05T15:40:03.008Z"
   },
   {
    "duration": 1200,
    "start_time": "2022-02-05T15:55:54.107Z"
   },
   {
    "duration": 950,
    "start_time": "2022-02-05T15:56:50.398Z"
   },
   {
    "duration": 1025,
    "start_time": "2022-02-05T15:57:25.595Z"
   },
   {
    "duration": 4,
    "start_time": "2022-02-05T16:00:01.064Z"
   },
   {
    "duration": 1734,
    "start_time": "2022-02-05T16:00:11.480Z"
   },
   {
    "duration": 7,
    "start_time": "2022-02-05T16:00:51.920Z"
   },
   {
    "duration": 962,
    "start_time": "2022-02-05T16:00:58.123Z"
   },
   {
    "duration": 1038,
    "start_time": "2022-02-05T16:01:42.916Z"
   },
   {
    "duration": 962,
    "start_time": "2022-02-05T16:02:11.806Z"
   },
   {
    "duration": 1052,
    "start_time": "2022-02-05T16:03:31.225Z"
   },
   {
    "duration": 984,
    "start_time": "2022-02-05T16:03:39.122Z"
   },
   {
    "duration": 1129,
    "start_time": "2022-02-05T16:03:50.028Z"
   },
   {
    "duration": 987,
    "start_time": "2022-02-05T16:03:58.373Z"
   },
   {
    "duration": 962,
    "start_time": "2022-02-05T16:04:05.700Z"
   },
   {
    "duration": 938,
    "start_time": "2022-02-05T16:04:15.849Z"
   },
   {
    "duration": 1066,
    "start_time": "2022-02-05T16:04:23.512Z"
   },
   {
    "duration": 1030,
    "start_time": "2022-02-05T16:04:30.890Z"
   },
   {
    "duration": 629,
    "start_time": "2022-02-05T16:05:56.812Z"
   },
   {
    "duration": 891,
    "start_time": "2022-02-05T16:06:09.215Z"
   },
   {
    "duration": 885,
    "start_time": "2022-02-05T16:06:26.968Z"
   },
   {
    "duration": 708,
    "start_time": "2022-02-05T16:12:23.942Z"
   },
   {
    "duration": 1239,
    "start_time": "2022-02-05T16:12:50.298Z"
   },
   {
    "duration": 1284,
    "start_time": "2022-02-05T16:14:59.996Z"
   },
   {
    "duration": 747,
    "start_time": "2022-02-05T16:15:16.002Z"
   },
   {
    "duration": 300,
    "start_time": "2022-02-05T16:23:33.040Z"
   },
   {
    "duration": 883,
    "start_time": "2022-02-05T16:23:43.826Z"
   },
   {
    "duration": 383,
    "start_time": "2022-02-05T16:39:02.615Z"
   },
   {
    "duration": 1029,
    "start_time": "2022-02-05T16:39:23.374Z"
   },
   {
    "duration": 608,
    "start_time": "2022-02-05T16:39:32.763Z"
   },
   {
    "duration": 139,
    "start_time": "2022-02-05T16:45:19.906Z"
   },
   {
    "duration": 118,
    "start_time": "2022-02-05T16:45:41.805Z"
   },
   {
    "duration": 19,
    "start_time": "2022-02-05T16:46:00.340Z"
   },
   {
    "duration": 109,
    "start_time": "2022-02-05T16:46:41.526Z"
   },
   {
    "duration": 773,
    "start_time": "2022-02-05T16:46:47.075Z"
   },
   {
    "duration": 92,
    "start_time": "2022-02-05T16:46:51.570Z"
   },
   {
    "duration": 9,
    "start_time": "2022-02-05T16:47:02.439Z"
   },
   {
    "duration": 7,
    "start_time": "2022-02-05T16:47:38.688Z"
   },
   {
    "duration": 6,
    "start_time": "2022-02-05T16:47:42.724Z"
   },
   {
    "duration": 127,
    "start_time": "2022-02-05T16:47:57.767Z"
   },
   {
    "duration": 17,
    "start_time": "2022-02-05T16:48:40.145Z"
   },
   {
    "duration": 8,
    "start_time": "2022-02-05T16:49:29.826Z"
   },
   {
    "duration": 9,
    "start_time": "2022-02-05T16:51:21.334Z"
   },
   {
    "duration": 338,
    "start_time": "2022-02-05T16:53:36.887Z"
   },
   {
    "duration": 51,
    "start_time": "2022-02-05T16:53:47.131Z"
   },
   {
    "duration": 619,
    "start_time": "2022-02-05T16:54:05.617Z"
   },
   {
    "duration": 8889,
    "start_time": "2022-02-05T16:54:51.692Z"
   },
   {
    "duration": 9,
    "start_time": "2022-02-05T16:55:28.480Z"
   },
   {
    "duration": 961,
    "start_time": "2022-02-05T16:59:59.396Z"
   },
   {
    "duration": 9,
    "start_time": "2022-02-05T17:00:47.764Z"
   },
   {
    "duration": 7,
    "start_time": "2022-02-05T17:18:31.296Z"
   },
   {
    "duration": 372,
    "start_time": "2022-02-07T07:05:49.479Z"
   },
   {
    "duration": 1011,
    "start_time": "2022-02-07T07:07:28.898Z"
   },
   {
    "duration": 368,
    "start_time": "2022-02-07T07:07:29.911Z"
   },
   {
    "duration": 6,
    "start_time": "2022-02-07T07:07:30.281Z"
   },
   {
    "duration": 31,
    "start_time": "2022-02-07T07:07:30.289Z"
   },
   {
    "duration": 12,
    "start_time": "2022-02-07T07:07:30.322Z"
   },
   {
    "duration": 16,
    "start_time": "2022-02-07T07:07:30.335Z"
   },
   {
    "duration": 25,
    "start_time": "2022-02-07T07:07:30.352Z"
   },
   {
    "duration": 63,
    "start_time": "2022-02-07T07:07:30.379Z"
   },
   {
    "duration": 8,
    "start_time": "2022-02-07T07:07:30.444Z"
   },
   {
    "duration": 62,
    "start_time": "2022-02-07T07:07:30.453Z"
   },
   {
    "duration": 4,
    "start_time": "2022-02-07T07:07:30.517Z"
   },
   {
    "duration": 68,
    "start_time": "2022-02-07T07:07:30.523Z"
   },
   {
    "duration": 20,
    "start_time": "2022-02-07T07:07:30.593Z"
   },
   {
    "duration": 18,
    "start_time": "2022-02-07T07:07:30.615Z"
   },
   {
    "duration": 7,
    "start_time": "2022-02-07T07:07:30.634Z"
   },
   {
    "duration": 46,
    "start_time": "2022-02-07T07:07:30.643Z"
   },
   {
    "duration": 13,
    "start_time": "2022-02-07T07:07:30.690Z"
   },
   {
    "duration": 21,
    "start_time": "2022-02-07T07:07:30.704Z"
   },
   {
    "duration": 3,
    "start_time": "2022-02-07T07:07:30.726Z"
   },
   {
    "duration": 7,
    "start_time": "2022-02-07T07:07:30.731Z"
   },
   {
    "duration": 33,
    "start_time": "2022-02-07T07:07:30.739Z"
   },
   {
    "duration": 28,
    "start_time": "2022-02-07T07:07:30.773Z"
   },
   {
    "duration": 8,
    "start_time": "2022-02-07T07:07:30.803Z"
   },
   {
    "duration": 378,
    "start_time": "2022-02-07T07:07:30.813Z"
   },
   {
    "duration": 7,
    "start_time": "2022-02-07T07:07:31.192Z"
   },
   {
    "duration": 367,
    "start_time": "2022-02-07T07:07:31.201Z"
   },
   {
    "duration": 7,
    "start_time": "2022-02-07T07:07:31.570Z"
   },
   {
    "duration": 372,
    "start_time": "2022-02-07T07:07:31.579Z"
   },
   {
    "duration": 7,
    "start_time": "2022-02-07T07:07:31.952Z"
   },
   {
    "duration": 14,
    "start_time": "2022-02-07T07:07:31.962Z"
   },
   {
    "duration": 5,
    "start_time": "2022-02-07T07:07:31.978Z"
   },
   {
    "duration": 5,
    "start_time": "2022-02-07T07:07:31.985Z"
   },
   {
    "duration": 7,
    "start_time": "2022-02-07T07:07:31.992Z"
   },
   {
    "duration": 6,
    "start_time": "2022-02-07T07:07:32.000Z"
   },
   {
    "duration": 6,
    "start_time": "2022-02-07T07:08:09.130Z"
   },
   {
    "duration": 22,
    "start_time": "2022-02-07T07:08:15.556Z"
   },
   {
    "duration": 1003,
    "start_time": "2022-02-07T07:09:12.792Z"
   },
   {
    "duration": 354,
    "start_time": "2022-02-07T07:09:13.797Z"
   },
   {
    "duration": 6,
    "start_time": "2022-02-07T07:09:14.153Z"
   },
   {
    "duration": 28,
    "start_time": "2022-02-07T07:09:14.161Z"
   },
   {
    "duration": 12,
    "start_time": "2022-02-07T07:09:14.191Z"
   },
   {
    "duration": 14,
    "start_time": "2022-02-07T07:09:14.204Z"
   },
   {
    "duration": 6,
    "start_time": "2022-02-07T07:09:14.219Z"
   },
   {
    "duration": 89,
    "start_time": "2022-02-07T07:09:14.227Z"
   },
   {
    "duration": 8,
    "start_time": "2022-02-07T07:09:14.318Z"
   },
   {
    "duration": 60,
    "start_time": "2022-02-07T07:09:14.328Z"
   },
   {
    "duration": 4,
    "start_time": "2022-02-07T07:09:14.390Z"
   },
   {
    "duration": 42,
    "start_time": "2022-02-07T07:09:14.396Z"
   },
   {
    "duration": 38,
    "start_time": "2022-02-07T07:09:14.440Z"
   },
   {
    "duration": 18,
    "start_time": "2022-02-07T07:09:14.480Z"
   },
   {
    "duration": 7,
    "start_time": "2022-02-07T07:09:14.500Z"
   },
   {
    "duration": 26,
    "start_time": "2022-02-07T07:09:14.508Z"
   },
   {
    "duration": 4,
    "start_time": "2022-02-07T07:09:14.535Z"
   },
   {
    "duration": 46,
    "start_time": "2022-02-07T07:09:14.541Z"
   },
   {
    "duration": 3,
    "start_time": "2022-02-07T07:09:14.589Z"
   },
   {
    "duration": 6,
    "start_time": "2022-02-07T07:09:14.593Z"
   },
   {
    "duration": 6,
    "start_time": "2022-02-07T07:09:14.600Z"
   },
   {
    "duration": 23,
    "start_time": "2022-02-07T07:09:14.608Z"
   },
   {
    "duration": 41,
    "start_time": "2022-02-07T07:09:14.633Z"
   },
   {
    "duration": 365,
    "start_time": "2022-02-07T07:09:14.675Z"
   },
   {
    "duration": 8,
    "start_time": "2022-02-07T07:09:15.042Z"
   },
   {
    "duration": 348,
    "start_time": "2022-02-07T07:09:15.071Z"
   },
   {
    "duration": 6,
    "start_time": "2022-02-07T07:09:15.420Z"
   },
   {
    "duration": 366,
    "start_time": "2022-02-07T07:09:15.427Z"
   },
   {
    "duration": 7,
    "start_time": "2022-02-07T07:09:15.794Z"
   },
   {
    "duration": 19,
    "start_time": "2022-02-07T07:09:15.802Z"
   },
   {
    "duration": 19,
    "start_time": "2022-02-07T07:09:15.822Z"
   },
   {
    "duration": 15,
    "start_time": "2022-02-07T07:09:15.843Z"
   },
   {
    "duration": 14,
    "start_time": "2022-02-07T07:09:15.859Z"
   },
   {
    "duration": 12,
    "start_time": "2022-02-07T07:09:15.874Z"
   },
   {
    "duration": 405,
    "start_time": "2022-02-07T07:10:08.385Z"
   },
   {
    "duration": 395,
    "start_time": "2022-02-07T07:12:44.008Z"
   },
   {
    "duration": 8,
    "start_time": "2022-02-07T07:18:26.375Z"
   },
   {
    "duration": 8,
    "start_time": "2022-02-07T07:19:26.801Z"
   },
   {
    "duration": 8,
    "start_time": "2022-02-07T07:19:35.141Z"
   },
   {
    "duration": 368,
    "start_time": "2022-02-07T07:27:33.848Z"
   },
   {
    "duration": 319,
    "start_time": "2022-02-07T07:28:08.176Z"
   },
   {
    "duration": 309,
    "start_time": "2022-02-07T07:31:43.865Z"
   },
   {
    "duration": 106,
    "start_time": "2022-02-07T07:33:09.140Z"
   },
   {
    "duration": 308,
    "start_time": "2022-02-07T07:33:51.251Z"
   },
   {
    "duration": 419,
    "start_time": "2022-02-07T07:38:23.552Z"
   },
   {
    "duration": 1429,
    "start_time": "2022-02-07T15:54:15.835Z"
   },
   {
    "duration": 549,
    "start_time": "2022-02-07T15:54:17.267Z"
   },
   {
    "duration": 10,
    "start_time": "2022-02-07T15:54:17.819Z"
   },
   {
    "duration": 47,
    "start_time": "2022-02-07T15:54:17.832Z"
   },
   {
    "duration": 20,
    "start_time": "2022-02-07T15:54:17.881Z"
   },
   {
    "duration": 23,
    "start_time": "2022-02-07T15:54:17.903Z"
   },
   {
    "duration": 41,
    "start_time": "2022-02-07T15:54:17.928Z"
   },
   {
    "duration": 127,
    "start_time": "2022-02-07T15:54:17.973Z"
   },
   {
    "duration": 12,
    "start_time": "2022-02-07T15:54:18.103Z"
   },
   {
    "duration": 90,
    "start_time": "2022-02-07T15:54:18.118Z"
   },
   {
    "duration": 6,
    "start_time": "2022-02-07T15:54:18.211Z"
   },
   {
    "duration": 94,
    "start_time": "2022-02-07T15:54:18.219Z"
   },
   {
    "duration": 34,
    "start_time": "2022-02-07T15:54:18.315Z"
   },
   {
    "duration": 46,
    "start_time": "2022-02-07T15:54:18.352Z"
   },
   {
    "duration": 11,
    "start_time": "2022-02-07T15:54:18.401Z"
   },
   {
    "duration": 74,
    "start_time": "2022-02-07T15:54:18.415Z"
   },
   {
    "duration": 7,
    "start_time": "2022-02-07T15:54:18.492Z"
   },
   {
    "duration": 38,
    "start_time": "2022-02-07T15:54:18.502Z"
   },
   {
    "duration": 5,
    "start_time": "2022-02-07T15:54:18.570Z"
   },
   {
    "duration": 9,
    "start_time": "2022-02-07T15:54:18.577Z"
   },
   {
    "duration": 10,
    "start_time": "2022-02-07T15:54:18.589Z"
   },
   {
    "duration": 82,
    "start_time": "2022-02-07T15:54:18.601Z"
   },
   {
    "duration": 12,
    "start_time": "2022-02-07T15:54:18.689Z"
   },
   {
    "duration": 620,
    "start_time": "2022-02-07T15:54:18.704Z"
   },
   {
    "duration": 608,
    "start_time": "2022-02-07T15:54:19.327Z"
   },
   {
    "duration": 617,
    "start_time": "2022-02-07T15:54:19.937Z"
   },
   {
    "duration": 662,
    "start_time": "2022-02-07T15:54:20.556Z"
   },
   {
    "duration": 7190,
    "start_time": "2022-02-07T15:54:21.221Z"
   },
   {
    "duration": 590,
    "start_time": "2022-02-07T15:54:27.825Z"
   },
   {
    "duration": 587,
    "start_time": "2022-02-07T15:54:27.830Z"
   },
   {
    "duration": 583,
    "start_time": "2022-02-07T15:54:27.836Z"
   },
   {
    "duration": 578,
    "start_time": "2022-02-07T15:54:27.843Z"
   },
   {
    "duration": 576,
    "start_time": "2022-02-07T15:54:27.848Z"
   },
   {
    "duration": 573,
    "start_time": "2022-02-07T15:54:27.853Z"
   },
   {
    "duration": 571,
    "start_time": "2022-02-07T15:54:27.858Z"
   },
   {
    "duration": 331,
    "start_time": "2022-02-07T15:58:51.950Z"
   },
   {
    "duration": 36,
    "start_time": "2022-02-07T15:59:04.809Z"
   },
   {
    "duration": 48,
    "start_time": "2022-02-07T15:59:29.011Z"
   },
   {
    "duration": 7493,
    "start_time": "2022-02-07T15:59:48.157Z"
   },
   {
    "duration": 7,
    "start_time": "2022-02-07T16:04:41.345Z"
   },
   {
    "duration": 6,
    "start_time": "2022-02-07T16:04:59.367Z"
   },
   {
    "duration": 7,
    "start_time": "2022-02-07T16:05:01.398Z"
   },
   {
    "duration": 11,
    "start_time": "2022-02-07T16:05:22.774Z"
   },
   {
    "duration": 8,
    "start_time": "2022-02-07T16:05:27.567Z"
   }
  ],
  "kernelspec": {
   "display_name": "Python 3 (ipykernel)",
   "language": "python",
   "name": "python3"
  },
  "language_info": {
   "codemirror_mode": {
    "name": "ipython",
    "version": 3
   },
   "file_extension": ".py",
   "mimetype": "text/x-python",
   "name": "python",
   "nbconvert_exporter": "python",
   "pygments_lexer": "ipython3",
   "version": "3.10.0"
  },
  "toc": {
   "base_numbering": 1,
   "nav_menu": {
    "height": "378px",
    "width": "305px"
   },
   "number_sections": true,
   "sideBar": true,
   "skip_h1_title": true,
   "title_cell": "Table of Contents",
   "title_sidebar": "Contents",
   "toc_cell": false,
   "toc_position": {},
   "toc_section_display": true,
   "toc_window_display": false
  }
 },
 "nbformat": 4,
 "nbformat_minor": 2
}
